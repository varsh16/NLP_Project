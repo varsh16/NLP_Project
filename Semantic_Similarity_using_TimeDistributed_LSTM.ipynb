{
  "cells": [
    {
      "cell_type": "markdown",
      "source": [
        "The following notebook, reviews the methodology by which we can build a recurrent neural network that is able to analyze text sentences and determine whether they are congruent in meaning or contradictory in terms of meaning.\n",
        "The notebook uses the dataset found in this link: https://nlp.stanford.edu/projects/snli/\n",
        "Available within the kaggle community (https://www.kaggle.com/datasets/stanfordu/stanford-natural-language-inference-corpus), the study focused on two cases: (the first is compatibility in terms of meaning, and the second case is complete difference in terms of meaning).\n",
        "The adopted methodology relied on the use of TimeDistributed and working on the formulation of the input of the neural network in the form of two sentences, and in each sentence the operations are applied to it inclusively independent of the second sentence, and the aim of this is the ability to extract the characteristics and link the sequence of words for each sentence, and then determine whether the two sentences are identical in terms of meaning Im different."
      ],
      "metadata": {
        "id": "gHmom9Ezx0e1"
      }
    },
    {
      "cell_type": "code",
      "execution_count": null,
      "metadata": {
        "colab": {
          "base_uri": "https://localhost:8080/"
        },
        "id": "PN27wItONcfg",
        "outputId": "495b537e-af23-4d21-f6ab-bcfd7f447e80"
      },
      "outputs": [
        {
          "metadata": {
            "tags": null
          },
          "name": "stdout",
          "output_type": "stream",
          "text": [
            "--2022-12-14 00:38:33--  https://nlp.stanford.edu/data/glove.6B.zip\n",
            "Resolving nlp.stanford.edu (nlp.stanford.edu)... 171.64.67.140\n",
            "Connecting to nlp.stanford.edu (nlp.stanford.edu)|171.64.67.140|:443... connected.\n",
            "HTTP request sent, awaiting response... 301 Moved Permanently\n",
            "Location: https://downloads.cs.stanford.edu/nlp/data/glove.6B.zip [following]\n",
            "--2022-12-14 00:38:34--  https://downloads.cs.stanford.edu/nlp/data/glove.6B.zip\n",
            "Resolving downloads.cs.stanford.edu (downloads.cs.stanford.edu)... 171.64.64.22\n",
            "Connecting to downloads.cs.stanford.edu (downloads.cs.stanford.edu)|171.64.64.22|:443... connected.\n",
            "HTTP request sent, awaiting response... 200 OK\n",
            "Length: 862182613 (822M) [application/zip]\n",
            "Saving to: ‘glove.6B.zip’\n",
            "\n",
            "glove.6B.zip        100%[===================>] 822.24M  5.11MB/s    in 4m 41s  \n",
            "\n",
            "2022-12-14 00:43:16 (2.93 MB/s) - ‘glove.6B.zip’ saved [862182613/862182613]\n",
            "\n"
          ]
        }
      ],
      "source": [
        "  #1\n",
        "  !wget https://nlp.stanford.edu/data/glove.6B.zip"
      ]
    },
    {
      "cell_type": "code",
      "execution_count": null,
      "metadata": {
        "colab": {
          "base_uri": "https://localhost:8080/"
        },
        "id": "C6tbXUi7NfAm",
        "outputId": "991e124c-16e2-4c6a-d6a3-eca023490b33"
      },
      "outputs": [
        {
          "output_type": "stream",
          "name": "stdout",
          "text": [
            "Archive:  glove.6B.zip\n",
            "  inflating: glove.6B.50d.txt        \n",
            "  inflating: glove.6B.100d.txt       \n",
            "  inflating: glove.6B.200d.txt       \n",
            "  inflating: glove.6B.300d.txt       \n"
          ]
        }
      ],
      "source": [
        "#2\n",
        "!unzip glove.6B.zip"
      ]
    },
    {
      "cell_type": "code",
      "execution_count": null,
      "metadata": {
        "colab": {
          "base_uri": "https://localhost:8080/"
        },
        "id": "Gejr0NUj4QgW",
        "outputId": "445c46bc-e958-42dd-92f9-be714fda2849"
      },
      "outputs": [
        {
          "output_type": "stream",
          "name": "stdout",
          "text": [
            "Looking in indexes: https://pypi.org/simple, https://us-python.pkg.dev/colab-wheels/public/simple/\n",
            "Collecting opendatasets\n",
            "  Downloading opendatasets-0.1.22-py3-none-any.whl (15 kB)\n",
            "Requirement already satisfied: kaggle in /usr/local/lib/python3.8/dist-packages (from opendatasets) (1.5.12)\n",
            "Requirement already satisfied: click in /usr/local/lib/python3.8/dist-packages (from opendatasets) (7.1.2)\n",
            "Requirement already satisfied: tqdm in /usr/local/lib/python3.8/dist-packages (from opendatasets) (4.64.1)\n",
            "Requirement already satisfied: certifi in /usr/local/lib/python3.8/dist-packages (from kaggle->opendatasets) (2022.9.24)\n",
            "Requirement already satisfied: python-dateutil in /usr/local/lib/python3.8/dist-packages (from kaggle->opendatasets) (2.8.2)\n",
            "Requirement already satisfied: requests in /usr/local/lib/python3.8/dist-packages (from kaggle->opendatasets) (2.23.0)\n",
            "Requirement already satisfied: python-slugify in /usr/local/lib/python3.8/dist-packages (from kaggle->opendatasets) (7.0.0)\n",
            "Requirement already satisfied: urllib3 in /usr/local/lib/python3.8/dist-packages (from kaggle->opendatasets) (1.24.3)\n",
            "Requirement already satisfied: six>=1.10 in /usr/local/lib/python3.8/dist-packages (from kaggle->opendatasets) (1.15.0)\n",
            "Requirement already satisfied: text-unidecode>=1.3 in /usr/local/lib/python3.8/dist-packages (from python-slugify->kaggle->opendatasets) (1.3)\n",
            "Requirement already satisfied: chardet<4,>=3.0.2 in /usr/local/lib/python3.8/dist-packages (from requests->kaggle->opendatasets) (3.0.4)\n",
            "Requirement already satisfied: idna<3,>=2.5 in /usr/local/lib/python3.8/dist-packages (from requests->kaggle->opendatasets) (2.10)\n",
            "Installing collected packages: opendatasets\n",
            "Successfully installed opendatasets-0.1.22\n"
          ]
        }
      ],
      "source": [
        "#3\n",
        "!pip install opendatasets"
      ]
    },
    {
      "cell_type": "code",
      "execution_count": null,
      "metadata": {
        "colab": {
          "base_uri": "https://localhost:8080/"
        },
        "id": "mnu4vTw74a0V",
        "outputId": "393cfe61-d4ba-4aa2-b41c-681d730b6001"
      },
      "outputs": [
        {
          "output_type": "stream",
          "name": "stdout",
          "text": [
            "Please provide your Kaggle credentials to download this dataset. Learn more: http://bit.ly/kaggle-creds\n",
            "Your Kaggle username: varshahrishikesh\n",
            "Your Kaggle Key: ··········\n",
            "Downloading stanford-natural-language-inference-corpus.zip to ./stanford-natural-language-inference-corpus\n"
          ]
        },
        {
          "output_type": "stream",
          "name": "stderr",
          "text": [
            "100%|██████████| 44.4M/44.4M [00:03<00:00, 14.5MB/s]\n"
          ]
        },
        {
          "output_type": "stream",
          "name": "stdout",
          "text": [
            "\n"
          ]
        }
      ],
      "source": [
        "#4\n",
        "import opendatasets as op\n",
        "op.download(\"https://www.kaggle.com/datasets/stanfordu/stanford-natural-language-inference-corpus\")"
      ]
    },
    {
      "cell_type": "code",
      "execution_count": null,
      "metadata": {
        "id": "NCCF_c8f4riN"
      },
      "outputs": [],
      "source": [
        "#5\n",
        "datasetFolder = \"stanford-natural-language-inference-corpus\""
      ]
    },
    {
      "cell_type": "code",
      "execution_count": null,
      "metadata": {
        "id": "zCR89uqA4uiW"
      },
      "outputs": [],
      "source": [
        "#6\n",
        "import pandas as pd\n",
        "import numpy as np\n",
        "import os\n",
        "import string\n",
        "import tensorflow as tf\n",
        "import matplotlib.pyplot as plt\n",
        "from keras.preprocessing.text import Tokenizer\n",
        "from keras_preprocessing.sequence import pad_sequences\n",
        "from tensorflow.keras.layers import Input, Embedding, LSTM , Dense, Flatten, Dropout , GRU, TimeDistributed, Conv1D, MaxPool1D\n",
        "from tensorflow.keras.metrics import TruePositives, FalsePositives,categorical_accuracy, TrueNegatives, FalseNegatives, Precision, Recall, AUC\n",
        "from tensorflow.keras.models import Sequential\n",
        "from sklearn.preprocessing import LabelEncoder\n",
        "from tensorflow.keras.utils import to_categorical\n",
        "from sklearn.model_selection import train_test_split\n",
        "import nltk\n",
        "from nltk.corpus import stopwords"
      ]
    },
    {
      "cell_type": "code",
      "execution_count": null,
      "metadata": {
        "colab": {
          "base_uri": "https://localhost:8080/"
        },
        "id": "uNiZ_fwGx6Qv",
        "outputId": "289ae893-21f6-45b0-c5eb-68c72e14f1e8"
      },
      "outputs": [
        {
          "output_type": "stream",
          "name": "stderr",
          "text": [
            "[nltk_data] Downloading package stopwords to /root/nltk_data...\n",
            "[nltk_data]   Unzipping corpora/stopwords.zip.\n"
          ]
        }
      ],
      "source": [
        "#7\n",
        "nltk.download('stopwords')\n",
        "stop_words = stopwords.words('english')"
      ]
    },
    {
      "cell_type": "code",
      "execution_count": null,
      "metadata": {
        "id": "fp0HV2A25A1G"
      },
      "outputs": [],
      "source": [
        "#8\n",
        "train_dataset = pd.read_csv(os.path.join(datasetFolder, \"snli_1.0_train.csv\"))\n",
        "test_dataset = pd.read_csv(os.path.join(datasetFolder, \"snli_1.0_test.csv\"))\n",
        "validation_dataset = pd.read_csv(os.path.join(datasetFolder, \"snli_1.0_dev.csv\"))\n"
      ]
    },
    {
      "cell_type": "code",
      "execution_count": null,
      "metadata": {
        "id": "RQymq_dO9Jis"
      },
      "outputs": [],
      "source": [
        "#9\n",
        "full_dataset = [train_dataset, test_dataset, validation_dataset]\n",
        "dataset = pd.concat(full_dataset)\n",
        "#pd.concat is a function in the pandas library that can be used to concatenate pandas objects along a given axis.\n",
        "#This function is often used to combine multiple DataFrames that have the same structure \n",
        "#but different data, or to combine the results of different operations on a single DataFrame."
      ]
    },
    {
      "cell_type": "code",
      "execution_count": null,
      "metadata": {
        "colab": {
          "base_uri": "https://localhost:8080/",
          "height": 583
        },
        "id": "dkuBZaR-5esk",
        "outputId": "9160466e-a3ad-46a4-fc32-561d7a2027df"
      },
      "outputs": [
        {
          "output_type": "execute_result",
          "data": {
            "text/plain": [
              "      gold_label                             sentence1_binary_parse  \\\n",
              "0        neutral  ( ( ( A person ) ( on ( a horse ) ) ) ( ( jump...   \n",
              "1  contradiction  ( ( ( A person ) ( on ( a horse ) ) ) ( ( jump...   \n",
              "2     entailment  ( ( ( A person ) ( on ( a horse ) ) ) ( ( jump...   \n",
              "3        neutral  ( Children ( ( ( smiling and ) waving ) ( at c...   \n",
              "4     entailment  ( Children ( ( ( smiling and ) waving ) ( at c...   \n",
              "\n",
              "                              sentence2_binary_parse  \\\n",
              "0  ( ( A person ) ( ( is ( ( training ( his horse...   \n",
              "1  ( ( A person ) ( ( ( ( is ( at ( a diner ) ) )...   \n",
              "2  ( ( A person ) ( ( ( ( is outdoors ) , ) ( on ...   \n",
              "3  ( They ( are ( smiling ( at ( their parents ) ...   \n",
              "4             ( There ( ( are children ) present ) )   \n",
              "\n",
              "                                     sentence1_parse  \\\n",
              "0  (ROOT (S (NP (NP (DT A) (NN person)) (PP (IN o...   \n",
              "1  (ROOT (S (NP (NP (DT A) (NN person)) (PP (IN o...   \n",
              "2  (ROOT (S (NP (NP (DT A) (NN person)) (PP (IN o...   \n",
              "3  (ROOT (NP (S (NP (NNP Children)) (VP (VBG smil...   \n",
              "4  (ROOT (NP (S (NP (NNP Children)) (VP (VBG smil...   \n",
              "\n",
              "                                     sentence2_parse  \\\n",
              "0  (ROOT (S (NP (DT A) (NN person)) (VP (VBZ is) ...   \n",
              "1  (ROOT (S (NP (DT A) (NN person)) (VP (VBZ is) ...   \n",
              "2  (ROOT (S (NP (DT A) (NN person)) (VP (VBZ is) ...   \n",
              "3  (ROOT (S (NP (PRP They)) (VP (VBP are) (VP (VB...   \n",
              "4  (ROOT (S (NP (EX There)) (VP (VBP are) (NP (NN...   \n",
              "\n",
              "                                           sentence1  \\\n",
              "0  A person on a horse jumps over a broken down a...   \n",
              "1  A person on a horse jumps over a broken down a...   \n",
              "2  A person on a horse jumps over a broken down a...   \n",
              "3              Children smiling and waving at camera   \n",
              "4              Children smiling and waving at camera   \n",
              "\n",
              "                                           sentence2         captionID  \\\n",
              "0  A person is training his horse for a competition.  3416050480.jpg#4   \n",
              "1      A person is at a diner, ordering an omelette.  3416050480.jpg#4   \n",
              "2                  A person is outdoors, on a horse.  3416050480.jpg#4   \n",
              "3                  They are smiling at their parents  2267923837.jpg#2   \n",
              "4                         There are children present  2267923837.jpg#2   \n",
              "\n",
              "                pairID         label1 label2 label3 label4 label5  \n",
              "0  3416050480.jpg#4r1n        neutral    NaN    NaN    NaN    NaN  \n",
              "1  3416050480.jpg#4r1c  contradiction    NaN    NaN    NaN    NaN  \n",
              "2  3416050480.jpg#4r1e     entailment    NaN    NaN    NaN    NaN  \n",
              "3  2267923837.jpg#2r1n        neutral    NaN    NaN    NaN    NaN  \n",
              "4  2267923837.jpg#2r1e     entailment    NaN    NaN    NaN    NaN  "
            ],
            "text/html": [
              "\n",
              "  <div id=\"df-e84f779d-ace8-4539-85ff-9c91f298cea9\">\n",
              "    <div class=\"colab-df-container\">\n",
              "      <div>\n",
              "<style scoped>\n",
              "    .dataframe tbody tr th:only-of-type {\n",
              "        vertical-align: middle;\n",
              "    }\n",
              "\n",
              "    .dataframe tbody tr th {\n",
              "        vertical-align: top;\n",
              "    }\n",
              "\n",
              "    .dataframe thead th {\n",
              "        text-align: right;\n",
              "    }\n",
              "</style>\n",
              "<table border=\"1\" class=\"dataframe\">\n",
              "  <thead>\n",
              "    <tr style=\"text-align: right;\">\n",
              "      <th></th>\n",
              "      <th>gold_label</th>\n",
              "      <th>sentence1_binary_parse</th>\n",
              "      <th>sentence2_binary_parse</th>\n",
              "      <th>sentence1_parse</th>\n",
              "      <th>sentence2_parse</th>\n",
              "      <th>sentence1</th>\n",
              "      <th>sentence2</th>\n",
              "      <th>captionID</th>\n",
              "      <th>pairID</th>\n",
              "      <th>label1</th>\n",
              "      <th>label2</th>\n",
              "      <th>label3</th>\n",
              "      <th>label4</th>\n",
              "      <th>label5</th>\n",
              "    </tr>\n",
              "  </thead>\n",
              "  <tbody>\n",
              "    <tr>\n",
              "      <th>0</th>\n",
              "      <td>neutral</td>\n",
              "      <td>( ( ( A person ) ( on ( a horse ) ) ) ( ( jump...</td>\n",
              "      <td>( ( A person ) ( ( is ( ( training ( his horse...</td>\n",
              "      <td>(ROOT (S (NP (NP (DT A) (NN person)) (PP (IN o...</td>\n",
              "      <td>(ROOT (S (NP (DT A) (NN person)) (VP (VBZ is) ...</td>\n",
              "      <td>A person on a horse jumps over a broken down a...</td>\n",
              "      <td>A person is training his horse for a competition.</td>\n",
              "      <td>3416050480.jpg#4</td>\n",
              "      <td>3416050480.jpg#4r1n</td>\n",
              "      <td>neutral</td>\n",
              "      <td>NaN</td>\n",
              "      <td>NaN</td>\n",
              "      <td>NaN</td>\n",
              "      <td>NaN</td>\n",
              "    </tr>\n",
              "    <tr>\n",
              "      <th>1</th>\n",
              "      <td>contradiction</td>\n",
              "      <td>( ( ( A person ) ( on ( a horse ) ) ) ( ( jump...</td>\n",
              "      <td>( ( A person ) ( ( ( ( is ( at ( a diner ) ) )...</td>\n",
              "      <td>(ROOT (S (NP (NP (DT A) (NN person)) (PP (IN o...</td>\n",
              "      <td>(ROOT (S (NP (DT A) (NN person)) (VP (VBZ is) ...</td>\n",
              "      <td>A person on a horse jumps over a broken down a...</td>\n",
              "      <td>A person is at a diner, ordering an omelette.</td>\n",
              "      <td>3416050480.jpg#4</td>\n",
              "      <td>3416050480.jpg#4r1c</td>\n",
              "      <td>contradiction</td>\n",
              "      <td>NaN</td>\n",
              "      <td>NaN</td>\n",
              "      <td>NaN</td>\n",
              "      <td>NaN</td>\n",
              "    </tr>\n",
              "    <tr>\n",
              "      <th>2</th>\n",
              "      <td>entailment</td>\n",
              "      <td>( ( ( A person ) ( on ( a horse ) ) ) ( ( jump...</td>\n",
              "      <td>( ( A person ) ( ( ( ( is outdoors ) , ) ( on ...</td>\n",
              "      <td>(ROOT (S (NP (NP (DT A) (NN person)) (PP (IN o...</td>\n",
              "      <td>(ROOT (S (NP (DT A) (NN person)) (VP (VBZ is) ...</td>\n",
              "      <td>A person on a horse jumps over a broken down a...</td>\n",
              "      <td>A person is outdoors, on a horse.</td>\n",
              "      <td>3416050480.jpg#4</td>\n",
              "      <td>3416050480.jpg#4r1e</td>\n",
              "      <td>entailment</td>\n",
              "      <td>NaN</td>\n",
              "      <td>NaN</td>\n",
              "      <td>NaN</td>\n",
              "      <td>NaN</td>\n",
              "    </tr>\n",
              "    <tr>\n",
              "      <th>3</th>\n",
              "      <td>neutral</td>\n",
              "      <td>( Children ( ( ( smiling and ) waving ) ( at c...</td>\n",
              "      <td>( They ( are ( smiling ( at ( their parents ) ...</td>\n",
              "      <td>(ROOT (NP (S (NP (NNP Children)) (VP (VBG smil...</td>\n",
              "      <td>(ROOT (S (NP (PRP They)) (VP (VBP are) (VP (VB...</td>\n",
              "      <td>Children smiling and waving at camera</td>\n",
              "      <td>They are smiling at their parents</td>\n",
              "      <td>2267923837.jpg#2</td>\n",
              "      <td>2267923837.jpg#2r1n</td>\n",
              "      <td>neutral</td>\n",
              "      <td>NaN</td>\n",
              "      <td>NaN</td>\n",
              "      <td>NaN</td>\n",
              "      <td>NaN</td>\n",
              "    </tr>\n",
              "    <tr>\n",
              "      <th>4</th>\n",
              "      <td>entailment</td>\n",
              "      <td>( Children ( ( ( smiling and ) waving ) ( at c...</td>\n",
              "      <td>( There ( ( are children ) present ) )</td>\n",
              "      <td>(ROOT (NP (S (NP (NNP Children)) (VP (VBG smil...</td>\n",
              "      <td>(ROOT (S (NP (EX There)) (VP (VBP are) (NP (NN...</td>\n",
              "      <td>Children smiling and waving at camera</td>\n",
              "      <td>There are children present</td>\n",
              "      <td>2267923837.jpg#2</td>\n",
              "      <td>2267923837.jpg#2r1e</td>\n",
              "      <td>entailment</td>\n",
              "      <td>NaN</td>\n",
              "      <td>NaN</td>\n",
              "      <td>NaN</td>\n",
              "      <td>NaN</td>\n",
              "    </tr>\n",
              "  </tbody>\n",
              "</table>\n",
              "</div>\n",
              "      <button class=\"colab-df-convert\" onclick=\"convertToInteractive('df-e84f779d-ace8-4539-85ff-9c91f298cea9')\"\n",
              "              title=\"Convert this dataframe to an interactive table.\"\n",
              "              style=\"display:none;\">\n",
              "        \n",
              "  <svg xmlns=\"http://www.w3.org/2000/svg\" height=\"24px\"viewBox=\"0 0 24 24\"\n",
              "       width=\"24px\">\n",
              "    <path d=\"M0 0h24v24H0V0z\" fill=\"none\"/>\n",
              "    <path d=\"M18.56 5.44l.94 2.06.94-2.06 2.06-.94-2.06-.94-.94-2.06-.94 2.06-2.06.94zm-11 1L8.5 8.5l.94-2.06 2.06-.94-2.06-.94L8.5 2.5l-.94 2.06-2.06.94zm10 10l.94 2.06.94-2.06 2.06-.94-2.06-.94-.94-2.06-.94 2.06-2.06.94z\"/><path d=\"M17.41 7.96l-1.37-1.37c-.4-.4-.92-.59-1.43-.59-.52 0-1.04.2-1.43.59L10.3 9.45l-7.72 7.72c-.78.78-.78 2.05 0 2.83L4 21.41c.39.39.9.59 1.41.59.51 0 1.02-.2 1.41-.59l7.78-7.78 2.81-2.81c.8-.78.8-2.07 0-2.86zM5.41 20L4 18.59l7.72-7.72 1.47 1.35L5.41 20z\"/>\n",
              "  </svg>\n",
              "      </button>\n",
              "      \n",
              "  <style>\n",
              "    .colab-df-container {\n",
              "      display:flex;\n",
              "      flex-wrap:wrap;\n",
              "      gap: 12px;\n",
              "    }\n",
              "\n",
              "    .colab-df-convert {\n",
              "      background-color: #E8F0FE;\n",
              "      border: none;\n",
              "      border-radius: 50%;\n",
              "      cursor: pointer;\n",
              "      display: none;\n",
              "      fill: #1967D2;\n",
              "      height: 32px;\n",
              "      padding: 0 0 0 0;\n",
              "      width: 32px;\n",
              "    }\n",
              "\n",
              "    .colab-df-convert:hover {\n",
              "      background-color: #E2EBFA;\n",
              "      box-shadow: 0px 1px 2px rgba(60, 64, 67, 0.3), 0px 1px 3px 1px rgba(60, 64, 67, 0.15);\n",
              "      fill: #174EA6;\n",
              "    }\n",
              "\n",
              "    [theme=dark] .colab-df-convert {\n",
              "      background-color: #3B4455;\n",
              "      fill: #D2E3FC;\n",
              "    }\n",
              "\n",
              "    [theme=dark] .colab-df-convert:hover {\n",
              "      background-color: #434B5C;\n",
              "      box-shadow: 0px 1px 3px 1px rgba(0, 0, 0, 0.15);\n",
              "      filter: drop-shadow(0px 1px 2px rgba(0, 0, 0, 0.3));\n",
              "      fill: #FFFFFF;\n",
              "    }\n",
              "  </style>\n",
              "\n",
              "      <script>\n",
              "        const buttonEl =\n",
              "          document.querySelector('#df-e84f779d-ace8-4539-85ff-9c91f298cea9 button.colab-df-convert');\n",
              "        buttonEl.style.display =\n",
              "          google.colab.kernel.accessAllowed ? 'block' : 'none';\n",
              "\n",
              "        async function convertToInteractive(key) {\n",
              "          const element = document.querySelector('#df-e84f779d-ace8-4539-85ff-9c91f298cea9');\n",
              "          const dataTable =\n",
              "            await google.colab.kernel.invokeFunction('convertToInteractive',\n",
              "                                                     [key], {});\n",
              "          if (!dataTable) return;\n",
              "\n",
              "          const docLinkHtml = 'Like what you see? Visit the ' +\n",
              "            '<a target=\"_blank\" href=https://colab.research.google.com/notebooks/data_table.ipynb>data table notebook</a>'\n",
              "            + ' to learn more about interactive tables.';\n",
              "          element.innerHTML = '';\n",
              "          dataTable['output_type'] = 'display_data';\n",
              "          await google.colab.output.renderOutput(dataTable, element);\n",
              "          const docLink = document.createElement('div');\n",
              "          docLink.innerHTML = docLinkHtml;\n",
              "          element.appendChild(docLink);\n",
              "        }\n",
              "      </script>\n",
              "    </div>\n",
              "  </div>\n",
              "  "
            ]
          },
          "metadata": {},
          "execution_count": 11
        }
      ],
      "source": [
        "#10\n",
        "dataset.head()\n",
        "#dataset.head is a method in the pandas library that returns the first few rows of a DataFrame. By default, it returns the first five rows, but you can specify the number of rows you want to return by passing an integer value to the head method. This method is often used to quickly preview the data in a DataFrame to get a sense of what it looks like and to check for any errors or inconsistencies. "
      ]
    },
    {
      "cell_type": "code",
      "execution_count": null,
      "metadata": {
        "id": "vEPMNUuma3SW"
      },
      "outputs": [],
      "source": [
        "#11\n",
        "dataset = dataset[['gold_label', 'sentence1', 'sentence2']]"
      ]
    },
    {
      "cell_type": "code",
      "execution_count": null,
      "metadata": {
        "colab": {
          "base_uri": "https://localhost:8080/"
        },
        "id": "zYUMkpqGZUNp",
        "outputId": "370f0464-1c13-43ce-eab1-1e79f86085be"
      },
      "outputs": [
        {
          "output_type": "execute_result",
          "data": {
            "text/plain": [
              "570152"
            ]
          },
          "metadata": {},
          "execution_count": 13
        }
      ],
      "source": [
        "#12\n",
        "len(dataset)"
      ]
    },
    {
      "cell_type": "code",
      "execution_count": null,
      "metadata": {
        "colab": {
          "base_uri": "https://localhost:8080/"
        },
        "id": "lIr4KOyQaltz",
        "outputId": "7dc16f73-e067-45ab-8834-5aa0848ca4b0"
      },
      "outputs": [
        {
          "output_type": "execute_result",
          "data": {
            "text/plain": [
              "gold_label    0\n",
              "sentence1     0\n",
              "sentence2     6\n",
              "dtype: int64"
            ]
          },
          "metadata": {},
          "execution_count": 14
        }
      ],
      "source": [
        "#13\n",
        "dataset.isnull().sum()"
      ]
    },
    {
      "cell_type": "code",
      "source": [
        "#14\n",
        "dataset.describe()"
      ],
      "metadata": {
        "colab": {
          "base_uri": "https://localhost:8080/",
          "height": 175
        },
        "id": "DkGpdNlNMl_W",
        "outputId": "c5ba6db6-761c-4d83-a562-e32cc10845e4"
      },
      "execution_count": null,
      "outputs": [
        {
          "output_type": "execute_result",
          "data": {
            "text/plain": [
              "        gold_label          sentence1           sentence2\n",
              "count       570152             570152              570146\n",
              "unique           4             157351              496642\n",
              "top     entailment  A dog in a field.  A man is sleeping.\n",
              "freq        190113                 33                 343"
            ],
            "text/html": [
              "\n",
              "  <div id=\"df-eb650ce4-96a9-47c3-8e77-323102ab6ac7\">\n",
              "    <div class=\"colab-df-container\">\n",
              "      <div>\n",
              "<style scoped>\n",
              "    .dataframe tbody tr th:only-of-type {\n",
              "        vertical-align: middle;\n",
              "    }\n",
              "\n",
              "    .dataframe tbody tr th {\n",
              "        vertical-align: top;\n",
              "    }\n",
              "\n",
              "    .dataframe thead th {\n",
              "        text-align: right;\n",
              "    }\n",
              "</style>\n",
              "<table border=\"1\" class=\"dataframe\">\n",
              "  <thead>\n",
              "    <tr style=\"text-align: right;\">\n",
              "      <th></th>\n",
              "      <th>gold_label</th>\n",
              "      <th>sentence1</th>\n",
              "      <th>sentence2</th>\n",
              "    </tr>\n",
              "  </thead>\n",
              "  <tbody>\n",
              "    <tr>\n",
              "      <th>count</th>\n",
              "      <td>570152</td>\n",
              "      <td>570152</td>\n",
              "      <td>570146</td>\n",
              "    </tr>\n",
              "    <tr>\n",
              "      <th>unique</th>\n",
              "      <td>4</td>\n",
              "      <td>157351</td>\n",
              "      <td>496642</td>\n",
              "    </tr>\n",
              "    <tr>\n",
              "      <th>top</th>\n",
              "      <td>entailment</td>\n",
              "      <td>A dog in a field.</td>\n",
              "      <td>A man is sleeping.</td>\n",
              "    </tr>\n",
              "    <tr>\n",
              "      <th>freq</th>\n",
              "      <td>190113</td>\n",
              "      <td>33</td>\n",
              "      <td>343</td>\n",
              "    </tr>\n",
              "  </tbody>\n",
              "</table>\n",
              "</div>\n",
              "      <button class=\"colab-df-convert\" onclick=\"convertToInteractive('df-eb650ce4-96a9-47c3-8e77-323102ab6ac7')\"\n",
              "              title=\"Convert this dataframe to an interactive table.\"\n",
              "              style=\"display:none;\">\n",
              "        \n",
              "  <svg xmlns=\"http://www.w3.org/2000/svg\" height=\"24px\"viewBox=\"0 0 24 24\"\n",
              "       width=\"24px\">\n",
              "    <path d=\"M0 0h24v24H0V0z\" fill=\"none\"/>\n",
              "    <path d=\"M18.56 5.44l.94 2.06.94-2.06 2.06-.94-2.06-.94-.94-2.06-.94 2.06-2.06.94zm-11 1L8.5 8.5l.94-2.06 2.06-.94-2.06-.94L8.5 2.5l-.94 2.06-2.06.94zm10 10l.94 2.06.94-2.06 2.06-.94-2.06-.94-.94-2.06-.94 2.06-2.06.94z\"/><path d=\"M17.41 7.96l-1.37-1.37c-.4-.4-.92-.59-1.43-.59-.52 0-1.04.2-1.43.59L10.3 9.45l-7.72 7.72c-.78.78-.78 2.05 0 2.83L4 21.41c.39.39.9.59 1.41.59.51 0 1.02-.2 1.41-.59l7.78-7.78 2.81-2.81c.8-.78.8-2.07 0-2.86zM5.41 20L4 18.59l7.72-7.72 1.47 1.35L5.41 20z\"/>\n",
              "  </svg>\n",
              "      </button>\n",
              "      \n",
              "  <style>\n",
              "    .colab-df-container {\n",
              "      display:flex;\n",
              "      flex-wrap:wrap;\n",
              "      gap: 12px;\n",
              "    }\n",
              "\n",
              "    .colab-df-convert {\n",
              "      background-color: #E8F0FE;\n",
              "      border: none;\n",
              "      border-radius: 50%;\n",
              "      cursor: pointer;\n",
              "      display: none;\n",
              "      fill: #1967D2;\n",
              "      height: 32px;\n",
              "      padding: 0 0 0 0;\n",
              "      width: 32px;\n",
              "    }\n",
              "\n",
              "    .colab-df-convert:hover {\n",
              "      background-color: #E2EBFA;\n",
              "      box-shadow: 0px 1px 2px rgba(60, 64, 67, 0.3), 0px 1px 3px 1px rgba(60, 64, 67, 0.15);\n",
              "      fill: #174EA6;\n",
              "    }\n",
              "\n",
              "    [theme=dark] .colab-df-convert {\n",
              "      background-color: #3B4455;\n",
              "      fill: #D2E3FC;\n",
              "    }\n",
              "\n",
              "    [theme=dark] .colab-df-convert:hover {\n",
              "      background-color: #434B5C;\n",
              "      box-shadow: 0px 1px 3px 1px rgba(0, 0, 0, 0.15);\n",
              "      filter: drop-shadow(0px 1px 2px rgba(0, 0, 0, 0.3));\n",
              "      fill: #FFFFFF;\n",
              "    }\n",
              "  </style>\n",
              "\n",
              "      <script>\n",
              "        const buttonEl =\n",
              "          document.querySelector('#df-eb650ce4-96a9-47c3-8e77-323102ab6ac7 button.colab-df-convert');\n",
              "        buttonEl.style.display =\n",
              "          google.colab.kernel.accessAllowed ? 'block' : 'none';\n",
              "\n",
              "        async function convertToInteractive(key) {\n",
              "          const element = document.querySelector('#df-eb650ce4-96a9-47c3-8e77-323102ab6ac7');\n",
              "          const dataTable =\n",
              "            await google.colab.kernel.invokeFunction('convertToInteractive',\n",
              "                                                     [key], {});\n",
              "          if (!dataTable) return;\n",
              "\n",
              "          const docLinkHtml = 'Like what you see? Visit the ' +\n",
              "            '<a target=\"_blank\" href=https://colab.research.google.com/notebooks/data_table.ipynb>data table notebook</a>'\n",
              "            + ' to learn more about interactive tables.';\n",
              "          element.innerHTML = '';\n",
              "          dataTable['output_type'] = 'display_data';\n",
              "          await google.colab.output.renderOutput(dataTable, element);\n",
              "          const docLink = document.createElement('div');\n",
              "          docLink.innerHTML = docLinkHtml;\n",
              "          element.appendChild(docLink);\n",
              "        }\n",
              "      </script>\n",
              "    </div>\n",
              "  </div>\n",
              "  "
            ]
          },
          "metadata": {},
          "execution_count": 15
        }
      ]
    },
    {
      "cell_type": "code",
      "execution_count": null,
      "metadata": {
        "id": "TzY18pMtata0"
      },
      "outputs": [],
      "source": [
        "#15\n",
        "dataset.dropna(axis=0, inplace=True)"
      ]
    },
    {
      "cell_type": "code",
      "execution_count": null,
      "metadata": {
        "colab": {
          "base_uri": "https://localhost:8080/"
        },
        "id": "oi86wCCzawq9",
        "outputId": "31c0830b-46ec-4e9a-b66f-ad5344f3a608"
      },
      "outputs": [
        {
          "output_type": "execute_result",
          "data": {
            "text/plain": [
              "570146"
            ]
          },
          "metadata": {},
          "execution_count": 17
        }
      ],
      "source": [
        "#16\n",
        "len(dataset)"
      ]
    },
    {
      "cell_type": "code",
      "execution_count": null,
      "metadata": {
        "id": "9RzbLISM_0L-"
      },
      "outputs": [],
      "source": [
        "#17\n",
        "dataset = dataset.loc[dataset['gold_label'] != \"-\"]\n",
        "dataset = dataset.loc[dataset['gold_label'] != \"neutral\"]"
      ]
    },
    {
      "cell_type": "code",
      "execution_count": null,
      "metadata": {
        "colab": {
          "base_uri": "https://localhost:8080/"
        },
        "id": "Oz2NZhmfZkHJ",
        "outputId": "17ba2858-517d-4919-cff2-f1064b22c833"
      },
      "outputs": [
        {
          "output_type": "execute_result",
          "data": {
            "text/plain": [
              "379811"
            ]
          },
          "metadata": {},
          "execution_count": 19
        }
      ],
      "source": [
        "#18\n",
        "len(dataset)"
      ]
    },
    {
      "cell_type": "code",
      "execution_count": null,
      "metadata": {
        "id": "Fp9kIloTtuek"
      },
      "outputs": [],
      "source": [
        "#19\n",
        "dataset = dataset.sample(frac = 1)"
      ]
    },
    {
      "cell_type": "code",
      "execution_count": null,
      "metadata": {
        "colab": {
          "base_uri": "https://localhost:8080/",
          "height": 206
        },
        "id": "nqfIdYveytrX",
        "outputId": "4cb55998-6214-453e-9f54-e0e93a937a8c"
      },
      "outputs": [
        {
          "output_type": "execute_result",
          "data": {
            "text/plain": [
              "           gold_label                                          sentence1  \\\n",
              "358888  contradiction  A woman wearing headphones walks down the street.   \n",
              "419571  contradiction     an old man, with a gray beard, riding his bike   \n",
              "338870  contradiction     A kite surfer with a white vest gets airborne.   \n",
              "4778       entailment  A man in a straw hat and another man in a stri...   \n",
              "445809  contradiction  Two girls doing cartwheels, while other childr...   \n",
              "\n",
              "                                                sentence2  \n",
              "358888  A woman wearing earmuffs is sitting on the couch.  \n",
              "419571                       An old man is driving a car.  \n",
              "338870                       The golfer jumps in the air.  \n",
              "4778                              The men have beverages.  \n",
              "445809                              girls are watching tv  "
            ],
            "text/html": [
              "\n",
              "  <div id=\"df-ea4acfec-f119-40c8-9689-3d9f492bb079\">\n",
              "    <div class=\"colab-df-container\">\n",
              "      <div>\n",
              "<style scoped>\n",
              "    .dataframe tbody tr th:only-of-type {\n",
              "        vertical-align: middle;\n",
              "    }\n",
              "\n",
              "    .dataframe tbody tr th {\n",
              "        vertical-align: top;\n",
              "    }\n",
              "\n",
              "    .dataframe thead th {\n",
              "        text-align: right;\n",
              "    }\n",
              "</style>\n",
              "<table border=\"1\" class=\"dataframe\">\n",
              "  <thead>\n",
              "    <tr style=\"text-align: right;\">\n",
              "      <th></th>\n",
              "      <th>gold_label</th>\n",
              "      <th>sentence1</th>\n",
              "      <th>sentence2</th>\n",
              "    </tr>\n",
              "  </thead>\n",
              "  <tbody>\n",
              "    <tr>\n",
              "      <th>358888</th>\n",
              "      <td>contradiction</td>\n",
              "      <td>A woman wearing headphones walks down the street.</td>\n",
              "      <td>A woman wearing earmuffs is sitting on the couch.</td>\n",
              "    </tr>\n",
              "    <tr>\n",
              "      <th>419571</th>\n",
              "      <td>contradiction</td>\n",
              "      <td>an old man, with a gray beard, riding his bike</td>\n",
              "      <td>An old man is driving a car.</td>\n",
              "    </tr>\n",
              "    <tr>\n",
              "      <th>338870</th>\n",
              "      <td>contradiction</td>\n",
              "      <td>A kite surfer with a white vest gets airborne.</td>\n",
              "      <td>The golfer jumps in the air.</td>\n",
              "    </tr>\n",
              "    <tr>\n",
              "      <th>4778</th>\n",
              "      <td>entailment</td>\n",
              "      <td>A man in a straw hat and another man in a stri...</td>\n",
              "      <td>The men have beverages.</td>\n",
              "    </tr>\n",
              "    <tr>\n",
              "      <th>445809</th>\n",
              "      <td>contradiction</td>\n",
              "      <td>Two girls doing cartwheels, while other childr...</td>\n",
              "      <td>girls are watching tv</td>\n",
              "    </tr>\n",
              "  </tbody>\n",
              "</table>\n",
              "</div>\n",
              "      <button class=\"colab-df-convert\" onclick=\"convertToInteractive('df-ea4acfec-f119-40c8-9689-3d9f492bb079')\"\n",
              "              title=\"Convert this dataframe to an interactive table.\"\n",
              "              style=\"display:none;\">\n",
              "        \n",
              "  <svg xmlns=\"http://www.w3.org/2000/svg\" height=\"24px\"viewBox=\"0 0 24 24\"\n",
              "       width=\"24px\">\n",
              "    <path d=\"M0 0h24v24H0V0z\" fill=\"none\"/>\n",
              "    <path d=\"M18.56 5.44l.94 2.06.94-2.06 2.06-.94-2.06-.94-.94-2.06-.94 2.06-2.06.94zm-11 1L8.5 8.5l.94-2.06 2.06-.94-2.06-.94L8.5 2.5l-.94 2.06-2.06.94zm10 10l.94 2.06.94-2.06 2.06-.94-2.06-.94-.94-2.06-.94 2.06-2.06.94z\"/><path d=\"M17.41 7.96l-1.37-1.37c-.4-.4-.92-.59-1.43-.59-.52 0-1.04.2-1.43.59L10.3 9.45l-7.72 7.72c-.78.78-.78 2.05 0 2.83L4 21.41c.39.39.9.59 1.41.59.51 0 1.02-.2 1.41-.59l7.78-7.78 2.81-2.81c.8-.78.8-2.07 0-2.86zM5.41 20L4 18.59l7.72-7.72 1.47 1.35L5.41 20z\"/>\n",
              "  </svg>\n",
              "      </button>\n",
              "      \n",
              "  <style>\n",
              "    .colab-df-container {\n",
              "      display:flex;\n",
              "      flex-wrap:wrap;\n",
              "      gap: 12px;\n",
              "    }\n",
              "\n",
              "    .colab-df-convert {\n",
              "      background-color: #E8F0FE;\n",
              "      border: none;\n",
              "      border-radius: 50%;\n",
              "      cursor: pointer;\n",
              "      display: none;\n",
              "      fill: #1967D2;\n",
              "      height: 32px;\n",
              "      padding: 0 0 0 0;\n",
              "      width: 32px;\n",
              "    }\n",
              "\n",
              "    .colab-df-convert:hover {\n",
              "      background-color: #E2EBFA;\n",
              "      box-shadow: 0px 1px 2px rgba(60, 64, 67, 0.3), 0px 1px 3px 1px rgba(60, 64, 67, 0.15);\n",
              "      fill: #174EA6;\n",
              "    }\n",
              "\n",
              "    [theme=dark] .colab-df-convert {\n",
              "      background-color: #3B4455;\n",
              "      fill: #D2E3FC;\n",
              "    }\n",
              "\n",
              "    [theme=dark] .colab-df-convert:hover {\n",
              "      background-color: #434B5C;\n",
              "      box-shadow: 0px 1px 3px 1px rgba(0, 0, 0, 0.15);\n",
              "      filter: drop-shadow(0px 1px 2px rgba(0, 0, 0, 0.3));\n",
              "      fill: #FFFFFF;\n",
              "    }\n",
              "  </style>\n",
              "\n",
              "      <script>\n",
              "        const buttonEl =\n",
              "          document.querySelector('#df-ea4acfec-f119-40c8-9689-3d9f492bb079 button.colab-df-convert');\n",
              "        buttonEl.style.display =\n",
              "          google.colab.kernel.accessAllowed ? 'block' : 'none';\n",
              "\n",
              "        async function convertToInteractive(key) {\n",
              "          const element = document.querySelector('#df-ea4acfec-f119-40c8-9689-3d9f492bb079');\n",
              "          const dataTable =\n",
              "            await google.colab.kernel.invokeFunction('convertToInteractive',\n",
              "                                                     [key], {});\n",
              "          if (!dataTable) return;\n",
              "\n",
              "          const docLinkHtml = 'Like what you see? Visit the ' +\n",
              "            '<a target=\"_blank\" href=https://colab.research.google.com/notebooks/data_table.ipynb>data table notebook</a>'\n",
              "            + ' to learn more about interactive tables.';\n",
              "          element.innerHTML = '';\n",
              "          dataTable['output_type'] = 'display_data';\n",
              "          await google.colab.output.renderOutput(dataTable, element);\n",
              "          const docLink = document.createElement('div');\n",
              "          docLink.innerHTML = docLinkHtml;\n",
              "          element.appendChild(docLink);\n",
              "        }\n",
              "      </script>\n",
              "    </div>\n",
              "  </div>\n",
              "  "
            ]
          },
          "metadata": {},
          "execution_count": 21
        }
      ],
      "source": [
        "#20\n",
        "dataset.head()"
      ]
    },
    {
      "cell_type": "code",
      "execution_count": null,
      "metadata": {
        "id": "QPwpj-B1-_4T"
      },
      "outputs": [],
      "source": [
        "#21\n",
        "sentence1 = dataset['sentence1']\n",
        "sentence2 = dataset['sentence2']\n",
        "label = dataset['gold_label']"
      ]
    },
    {
      "cell_type": "code",
      "execution_count": null,
      "metadata": {
        "colab": {
          "base_uri": "https://localhost:8080/"
        },
        "id": "e8vSCe9MZqeZ",
        "outputId": "5973ceaa-9d35-436e-93df-af9243fe3ee9"
      },
      "outputs": [
        {
          "output_type": "execute_result",
          "data": {
            "text/plain": [
              "array(['contradiction', 'entailment'], dtype=object)"
            ]
          },
          "metadata": {},
          "execution_count": 23
        }
      ],
      "source": [
        "#22\n",
        "label.unique()"
      ]
    },
    {
      "cell_type": "code",
      "execution_count": null,
      "metadata": {
        "id": "6ek-v895Nk9Q"
      },
      "outputs": [],
      "source": [
        "#23\n",
        "def CleanFeatures(sentences):\n",
        "  sentences = sentences.apply(lambda sequence:\n",
        "                                            [ltrs.lower() for ltrs in sequence if ltrs not in string.punctuation])\n",
        "  sentences = sentences.apply(lambda wrd: ''.join(wrd))\n",
        "  sentences = sentences.apply(lambda sequence:\n",
        "                                            [word for word in sequence.split() if word not in stop_words])\n",
        "  sentences = sentences.apply(lambda wrd: ' '.join(wrd))\n",
        "  return sentences"
      ]
    },
    {
      "cell_type": "code",
      "execution_count": null,
      "metadata": {
        "id": "a5w5qR1GUnQZ"
      },
      "outputs": [],
      "source": [
        "#24\n",
        "sentence1 = CleanFeatures(sentence1)\n",
        "sentence2 = CleanFeatures(sentence2)"
      ]
    },
    {
      "cell_type": "code",
      "execution_count": null,
      "metadata": {
        "colab": {
          "base_uri": "https://localhost:8080/"
        },
        "id": "NgExSelkyXPK",
        "outputId": "ea77e820-03b4-4363-d576-91a7eb0b2c88"
      },
      "outputs": [
        {
          "output_type": "execute_result",
          "data": {
            "text/plain": [
              "358888                woman wearing headphones walks street\n",
              "419571                       old man gray beard riding bike\n",
              "338870                 kite surfer white vest gets airborne\n",
              "4778      man straw hat another man striped shirt drinki...\n",
              "445809                   two girls cartwheels children look\n",
              "Name: sentence1, dtype: object"
            ]
          },
          "metadata": {},
          "execution_count": 26
        }
      ],
      "source": [
        "#25\n",
        "sentence1.head()"
      ]
    },
    {
      "cell_type": "code",
      "execution_count": null,
      "metadata": {
        "colab": {
          "base_uri": "https://localhost:8080/"
        },
        "id": "I97ELVkAzBG-",
        "outputId": "cf706a45-7078-4da9-fb8a-7fe17b458b16"
      },
      "outputs": [
        {
          "output_type": "execute_result",
          "data": {
            "text/plain": [
              "358888    woman wearing earmuffs sitting couch\n",
              "419571                     old man driving car\n",
              "338870                        golfer jumps air\n",
              "4778                             men beverages\n",
              "445809                       girls watching tv\n",
              "Name: sentence2, dtype: object"
            ]
          },
          "metadata": {},
          "execution_count": 27
        }
      ],
      "source": [
        "#26\n",
        "sentence2.head()"
      ]
    },
    {
      "cell_type": "code",
      "execution_count": null,
      "metadata": {
        "colab": {
          "base_uri": "https://localhost:8080/"
        },
        "id": "bNdDoe2R_LMh",
        "outputId": "5b13e9a9-1a44-40a4-b624-9983016d0bfa"
      },
      "outputs": [
        {
          "output_type": "execute_result",
          "data": {
            "text/plain": [
              "(379811,)"
            ]
          },
          "metadata": {},
          "execution_count": 28
        }
      ],
      "source": [
        "#27\n",
        "sentence1.shape"
      ]
    },
    {
      "cell_type": "code",
      "execution_count": null,
      "metadata": {
        "colab": {
          "base_uri": "https://localhost:8080/"
        },
        "id": "1NTJMFb266n4",
        "outputId": "fb770212-0b98-4953-ea54-fa8ac5e4d777"
      },
      "outputs": [
        {
          "output_type": "execute_result",
          "data": {
            "text/plain": [
              "array(['contradiction', 'entailment'], dtype=object)"
            ]
          },
          "metadata": {},
          "execution_count": 29
        }
      ],
      "source": [
        "#28\n",
        "label.unique()"
      ]
    },
    {
      "cell_type": "code",
      "execution_count": null,
      "metadata": {
        "colab": {
          "base_uri": "https://localhost:8080/"
        },
        "id": "ubpP0SbhAKNe",
        "outputId": "82cd5b05-cb1e-42e3-d200-e52c261b6714"
      },
      "outputs": [
        {
          "output_type": "execute_result",
          "data": {
            "text/plain": [
              "379811"
            ]
          },
          "metadata": {},
          "execution_count": 30
        }
      ],
      "source": [
        "#29\n",
        "len(label)"
      ]
    },
    {
      "cell_type": "code",
      "execution_count": null,
      "metadata": {
        "colab": {
          "base_uri": "https://localhost:8080/"
        },
        "id": "VGjBegIWBBFG",
        "outputId": "ec728ef8-8352-4876-f300-75a8bb7b6bee"
      },
      "outputs": [
        {
          "output_type": "execute_result",
          "data": {
            "text/plain": [
              "(2, 379811)"
            ]
          },
          "metadata": {},
          "execution_count": 31
        }
      ],
      "source": [
        "#30\n",
        "all_sentences = np.asarray([sentence1, sentence2])\n",
        "all_sentences.shape"
      ]
    },
    {
      "cell_type": "code",
      "execution_count": null,
      "metadata": {
        "id": "77Qh9lfdB0yl"
      },
      "outputs": [],
      "source": [
        "#31\n",
        "all_sentences = all_sentences.reshape(-1,1 )"
      ]
    },
    {
      "cell_type": "code",
      "execution_count": null,
      "metadata": {
        "id": "4C-uhA8GB5H8"
      },
      "outputs": [],
      "source": [
        "#32\n",
        "all_sentences = all_sentences.reshape(all_sentences.shape[0])"
      ]
    },
    {
      "cell_type": "code",
      "execution_count": null,
      "metadata": {
        "colab": {
          "base_uri": "https://localhost:8080/"
        },
        "id": "zeoZ7S93CS9O",
        "outputId": "e0621a1a-fbf9-4d74-f60d-873c11a2ba4b"
      },
      "outputs": [
        {
          "output_type": "execute_result",
          "data": {
            "text/plain": [
              "(759622,)"
            ]
          },
          "metadata": {},
          "execution_count": 34
        }
      ],
      "source": [
        "all_sentences.shape"
      ]
    },
    {
      "cell_type": "code",
      "execution_count": null,
      "metadata": {
        "id": "LyUYWy9RBPW2"
      },
      "outputs": [],
      "source": [
        "#33\n",
        "tokenizer = Tokenizer(num_words=6000)\n",
        "tokenizer.fit_on_texts(all_sentences)"
      ]
    },
    {
      "cell_type": "markdown",
      "metadata": {
        "id": "ciYkEaKqCYxm"
      },
      "source": [
        "for first sentences:"
      ]
    },
    {
      "cell_type": "code",
      "execution_count": null,
      "metadata": {
        "id": "EbtH_mO6CcTm"
      },
      "outputs": [],
      "source": [
        "#34\n",
        "sentence1_seq = tokenizer.texts_to_sequences(sentence1)\n",
        "sentence1 = pad_sequences(sentence1_seq)"
      ]
    },
    {
      "cell_type": "code",
      "execution_count": null,
      "metadata": {
        "colab": {
          "base_uri": "https://localhost:8080/"
        },
        "id": "-Xvel2aLCkxl",
        "outputId": "327b98ea-48bb-41e0-aad6-f048f5c8f51a"
      },
      "outputs": [
        {
          "output_type": "execute_result",
          "data": {
            "text/plain": [
              "(379811, 43)"
            ]
          },
          "metadata": {},
          "execution_count": 37
        }
      ],
      "source": [
        "sentence1.shape"
      ]
    },
    {
      "cell_type": "code",
      "execution_count": null,
      "metadata": {
        "id": "3O0dlMlgCocM"
      },
      "outputs": [],
      "source": [
        "sentence2_seq = tokenizer.texts_to_sequences(sentence2)\n",
        "sentence2 = pad_sequences(sentence2_seq, maxlen= sentence1.shape[1])"
      ]
    },
    {
      "cell_type": "code",
      "execution_count": null,
      "metadata": {
        "colab": {
          "base_uri": "https://localhost:8080/"
        },
        "id": "lgrcK47QCrfd",
        "outputId": "b7bb4cde-9818-4a54-c7be-86db0fa2d4e0"
      },
      "outputs": [
        {
          "output_type": "execute_result",
          "data": {
            "text/plain": [
              "(379811, 43)"
            ]
          },
          "metadata": {},
          "execution_count": 39
        }
      ],
      "source": [
        "sentence2.shape"
      ]
    },
    {
      "cell_type": "code",
      "execution_count": null,
      "metadata": {
        "colab": {
          "base_uri": "https://localhost:8080/"
        },
        "id": "bRjyiBF0C8d1",
        "outputId": "74fb95ae-43b0-49a2-e153-6dc789b02ec2"
      },
      "outputs": [
        {
          "output_type": "execute_result",
          "data": {
            "text/plain": [
              "array([[   0,    0,    0, ...,  720,   99,   22],\n",
              "       [   0,    0,    0, ...,  411,   36,   55],\n",
              "       [   0,    0,    0, ...,  280,  513, 1562],\n",
              "       ...,\n",
              "       [   0,    0,    0, ...,   73,   48,  185],\n",
              "       [   0,    0,    0, ..., 1498,  168,  523],\n",
              "       [   0,    0,    0, ...,  289,   45, 1124]], dtype=int32)"
            ]
          },
          "metadata": {},
          "execution_count": 40
        }
      ],
      "source": [
        "sentence1"
      ]
    },
    {
      "cell_type": "code",
      "execution_count": null,
      "metadata": {
        "id": "pF7BLsrV82PF"
      },
      "outputs": [],
      "source": [
        "#35\n",
        "label_ = LabelEncoder()\n",
        "labels = label_.fit_transform(label)"
      ]
    },
    {
      "cell_type": "code",
      "execution_count": null,
      "metadata": {
        "colab": {
          "base_uri": "https://localhost:8080/"
        },
        "id": "INfvhvbbDOu9",
        "outputId": "13e2ab52-7b2b-42e5-aed8-e089ac401dd5"
      },
      "outputs": [
        {
          "output_type": "execute_result",
          "data": {
            "text/plain": [
              "array([0, 0, 0, ..., 0, 0, 1])"
            ]
          },
          "metadata": {},
          "execution_count": 42
        }
      ],
      "source": [
        "#36\n",
        "labels"
      ]
    },
    {
      "cell_type": "code",
      "execution_count": null,
      "metadata": {
        "id": "nSKF31-BDQNl"
      },
      "outputs": [],
      "source": [
        "#37\n",
        "vocabulary = len(tokenizer.word_index)"
      ]
    },
    {
      "cell_type": "code",
      "execution_count": null,
      "metadata": {
        "colab": {
          "base_uri": "https://localhost:8080/"
        },
        "id": "jbZOMbnVDSbE",
        "outputId": "80d7d2e5-ec2f-45bc-f740-3fe9860eea5c"
      },
      "outputs": [
        {
          "output_type": "execute_result",
          "data": {
            "text/plain": [
              "30607"
            ]
          },
          "metadata": {},
          "execution_count": 44
        }
      ],
      "source": [
        "vocabulary"
      ]
    },
    {
      "cell_type": "code",
      "execution_count": null,
      "metadata": {
        "id": "YiZqTKcLE9V8"
      },
      "outputs": [],
      "source": [
        "#38\n",
        "labels = to_categorical(labels)"
      ]
    },
    {
      "cell_type": "code",
      "execution_count": null,
      "metadata": {
        "colab": {
          "base_uri": "https://localhost:8080/"
        },
        "id": "WMf9IWovFBmT",
        "outputId": "45e97829-ab43-48c5-d3f0-0af8508a8e04"
      },
      "outputs": [
        {
          "output_type": "execute_result",
          "data": {
            "text/plain": [
              "(379811, 2)"
            ]
          },
          "metadata": {},
          "execution_count": 46
        }
      ],
      "source": [
        "#39\n",
        "labels.shape"
      ]
    },
    {
      "cell_type": "code",
      "execution_count": null,
      "metadata": {
        "colab": {
          "base_uri": "https://localhost:8080/"
        },
        "id": "_GcqyCbgFDgs",
        "outputId": "426f0a44-1b6f-46cd-b324-3de2e9457e2e"
      },
      "outputs": [
        {
          "output_type": "execute_result",
          "data": {
            "text/plain": [
              "array([[1., 0.],\n",
              "       [1., 0.],\n",
              "       [1., 0.],\n",
              "       ...,\n",
              "       [1., 0.],\n",
              "       [1., 0.],\n",
              "       [0., 1.]], dtype=float32)"
            ]
          },
          "metadata": {},
          "execution_count": 47
        }
      ],
      "source": [
        "labels"
      ]
    },
    {
      "cell_type": "code",
      "execution_count": null,
      "metadata": {
        "colab": {
          "base_uri": "https://localhost:8080/"
        },
        "id": "KjrE0ew-FW9V",
        "outputId": "bc2c0cf3-4ced-409f-8123-0c340bdd681c"
      },
      "outputs": [
        {
          "output_type": "execute_result",
          "data": {
            "text/plain": [
              "(2, 379811, 43)"
            ]
          },
          "metadata": {},
          "execution_count": 48
        }
      ],
      "source": [
        "#39\n",
        "all_sentences = np.asarray([sentence1, sentence2])\n",
        "all_sentences.shape"
      ]
    },
    {
      "cell_type": "code",
      "execution_count": null,
      "metadata": {
        "id": "gj695nsPFPSk"
      },
      "outputs": [],
      "source": [
        "#40\n",
        "all_sentences = all_sentences.reshape(all_sentences.shape[1], 2, all_sentences.shape[2])"
      ]
    },
    {
      "cell_type": "code",
      "execution_count": null,
      "metadata": {
        "colab": {
          "base_uri": "https://localhost:8080/"
        },
        "id": "IGvDfJ26Fk-V",
        "outputId": "6c4f26c2-ec29-4f3c-b9cb-6a51e6a0be4a"
      },
      "outputs": [
        {
          "output_type": "execute_result",
          "data": {
            "text/plain": [
              "(379811, 2, 43)"
            ]
          },
          "metadata": {},
          "execution_count": 50
        }
      ],
      "source": [
        "#40\n",
        "all_sentences.shape"
      ]
    },
    {
      "cell_type": "code",
      "execution_count": null,
      "metadata": {
        "id": "39nHKmAXN72O"
      },
      "outputs": [],
      "source": [
        "#41\n",
        "def glove_word_embedding(file_name, vocabulary):\n",
        "  embeddings_index = {}\n",
        "  file_ = open(file_name)\n",
        "  for line in file_:\n",
        "      arr = line.split()\n",
        "      single_word = arr[0]\n",
        "      w = np.asarray(arr[1:],dtype='float32')\n",
        "      embeddings_index[single_word] = w\n",
        "  file_.close()\n",
        "  max_words = vocabulary + 1\n",
        "  word_index = tokenizer.word_index\n",
        "  embedding_matrix = np.zeros((max_words,300)).astype(object)\n",
        "  for word , i in word_index.items():\n",
        "          embedding_vector = embeddings_index.get(word)\n",
        "          if embedding_vector is not None:\n",
        "              embedding_matrix[i] = embedding_vector \n",
        "  return embedding_matrix            "
      ]
    },
    {
      "cell_type": "code",
      "source": [
        "x = Input(shape=(all_sentences.shape[1], all_sentences.shape[2],))\n",
        "p = TimeDistributed(Embedding(vocabulary + 1, 300))(x)\n",
        "p = TimeDistributed(LSTM(128, return_sequences=True))(p)\n",
        "p = TimeDistributed(LSTM(64, return_sequences=True))(p)\n",
        "x1 = TimeDistributed(tf.keras.layers.GlobalMaxPooling1D())(p)\n",
        "x2 = TimeDistributed(tf.keras.layers.GlobalAveragePooling1D())(p)\n",
        "concat = tf.keras.layers.concatenate([x1, x2])\n",
        "p = tf.keras.layers.Dropout(0.35)(concat)\n",
        "p = Flatten()(p)\n",
        "p = Dense(2, activation=\"softmax\")(p)"
      ],
      "metadata": {
        "id": "blYKDjKEIXZB"
      },
      "execution_count": null,
      "outputs": []
    },
    {
      "cell_type": "code",
      "source": [
        "#42\n",
        "m = tf.keras.models.Model(inputs = x, outputs = p)"
      ],
      "metadata": {
        "id": "jVwbdiRsJcFS"
      },
      "execution_count": null,
      "outputs": []
    },
    {
      "cell_type": "code",
      "execution_count": null,
      "metadata": {
        "id": "xRWJ-aj_Om3R"
      },
      "outputs": [],
      "source": [
        "#43\n",
        "m.layers[1].set_weights([glove_word_embedding(\"glove.6B.300d.txt\", vocabulary)])\n",
        "m.layers[1].trainable = False"
      ]
    },
    {
      "cell_type": "code",
      "execution_count": null,
      "metadata": {
        "colab": {
          "base_uri": "https://localhost:8080/"
        },
        "id": "jLwdENGOGWMO",
        "outputId": "bf2da40a-bb2b-411a-c2fe-e55caaf5418d"
      },
      "outputs": [
        {
          "output_type": "stream",
          "name": "stdout",
          "text": [
            "Model: \"model\"\n",
            "__________________________________________________________________________________________________\n",
            " Layer (type)                   Output Shape         Param #     Connected to                     \n",
            "==================================================================================================\n",
            " input_1 (InputLayer)           [(None, 2, 43)]      0           []                               \n",
            "                                                                                                  \n",
            " time_distributed (TimeDistribu  (None, 2, 43, 300)  9182400     ['input_1[0][0]']                \n",
            " ted)                                                                                             \n",
            "                                                                                                  \n",
            " time_distributed_1 (TimeDistri  (None, 2, 43, 128)  219648      ['time_distributed[0][0]']       \n",
            " buted)                                                                                           \n",
            "                                                                                                  \n",
            " time_distributed_2 (TimeDistri  (None, 2, 43, 64)   49408       ['time_distributed_1[0][0]']     \n",
            " buted)                                                                                           \n",
            "                                                                                                  \n",
            " time_distributed_3 (TimeDistri  (None, 2, 64)       0           ['time_distributed_2[0][0]']     \n",
            " buted)                                                                                           \n",
            "                                                                                                  \n",
            " time_distributed_4 (TimeDistri  (None, 2, 64)       0           ['time_distributed_2[0][0]']     \n",
            " buted)                                                                                           \n",
            "                                                                                                  \n",
            " concatenate (Concatenate)      (None, 2, 128)       0           ['time_distributed_3[0][0]',     \n",
            "                                                                  'time_distributed_4[0][0]']     \n",
            "                                                                                                  \n",
            " dropout (Dropout)              (None, 2, 128)       0           ['concatenate[0][0]']            \n",
            "                                                                                                  \n",
            " flatten (Flatten)              (None, 256)          0           ['dropout[0][0]']                \n",
            "                                                                                                  \n",
            " dense (Dense)                  (None, 2)            514         ['flatten[0][0]']                \n",
            "                                                                                                  \n",
            "==================================================================================================\n",
            "Total params: 9,451,970\n",
            "Trainable params: 269,570\n",
            "Non-trainable params: 9,182,400\n",
            "__________________________________________________________________________________________________\n"
          ]
        }
      ],
      "source": [
        "#44\n",
        "m.summary()"
      ]
    },
    {
      "cell_type": "code",
      "execution_count": null,
      "metadata": {
        "id": "rcGYhVmUGcou"
      },
      "outputs": [],
      "source": [
        "#45\n",
        "m.compile(loss=\"binary_crossentropy\",optimizer='adam',metrics=[TruePositives(name='tp'),\n",
        "                                                                     FalsePositives(name='fp'),\n",
        "                                                                     TrueNegatives(name='tn'),\n",
        "                                                                     FalseNegatives(name='fn'),\n",
        "                                                                     \"accuracy\",\n",
        "                                                                     Precision(name='precision'),\n",
        "                                                                     Recall(name='recall'),\n",
        "                                                                     AUC(name = \"AUC\")])"
      ]
    },
    {
      "cell_type": "code",
      "execution_count": null,
      "metadata": {
        "id": "JB6XiOHvGf2N"
      },
      "outputs": [],
      "source": [
        "#46\n",
        "from keras.callbacks import TensorBoard, EarlyStopping\n",
        "earlyStopping = EarlyStopping(monitor = 'loss', patience = 60, mode = 'min', restore_best_weights = True)"
      ]
    },
    {
      "cell_type": "code",
      "execution_count": null,
      "metadata": {
        "colab": {
          "base_uri": "https://localhost:8080/"
        },
        "id": "LF4N2ZVAGjvW",
        "outputId": "30d2ff98-bfc4-402b-f67f-64c73eb47c15"
      },
      "outputs": [
        {
          "output_type": "stream",
          "name": "stdout",
          "text": [
            "Epoch 1/200\n",
            "371/371 [==============================] - 23s 63ms/step - loss: 0.5826 - tp: 251970.0000 - fp: 127841.0000 - tn: 251970.0000 - fn: 127841.0000 - accuracy: 0.6634 - precision: 0.6634 - recall: 0.6634 - AUC: 0.7439\n",
            "Epoch 2/200\n",
            "371/371 [==============================] - 23s 63ms/step - loss: 0.5757 - tp: 253647.0000 - fp: 126164.0000 - tn: 253647.0000 - fn: 126164.0000 - accuracy: 0.6678 - precision: 0.6678 - recall: 0.6678 - AUC: 0.7509\n",
            "Epoch 3/200\n",
            "371/371 [==============================] - 23s 62ms/step - loss: 0.5692 - tp: 255811.0000 - fp: 124000.0000 - tn: 255811.0000 - fn: 124000.0000 - accuracy: 0.6735 - precision: 0.6735 - recall: 0.6735 - AUC: 0.7578\n",
            "Epoch 4/200\n",
            "371/371 [==============================] - 23s 63ms/step - loss: 0.5633 - tp: 257137.0000 - fp: 122674.0000 - tn: 257137.0000 - fn: 122674.0000 - accuracy: 0.6770 - precision: 0.6770 - recall: 0.6770 - AUC: 0.7634\n",
            "Epoch 5/200\n",
            "371/371 [==============================] - 23s 63ms/step - loss: 0.5584 - tp: 258527.0000 - fp: 121284.0000 - tn: 258527.0000 - fn: 121284.0000 - accuracy: 0.6807 - precision: 0.6807 - recall: 0.6807 - AUC: 0.7683\n",
            "Epoch 6/200\n",
            "371/371 [==============================] - 23s 62ms/step - loss: 0.5532 - tp: 259804.0000 - fp: 120007.0000 - tn: 259804.0000 - fn: 120007.0000 - accuracy: 0.6840 - precision: 0.6840 - recall: 0.6840 - AUC: 0.7730\n",
            "Epoch 7/200\n",
            "371/371 [==============================] - 23s 62ms/step - loss: 0.5469 - tp: 261497.0000 - fp: 118314.0000 - tn: 261497.0000 - fn: 118314.0000 - accuracy: 0.6885 - precision: 0.6885 - recall: 0.6885 - AUC: 0.7792\n",
            "Epoch 8/200\n",
            "371/371 [==============================] - 23s 63ms/step - loss: 0.5428 - tp: 262175.0000 - fp: 117636.0000 - tn: 262175.0000 - fn: 117636.0000 - accuracy: 0.6903 - precision: 0.6903 - recall: 0.6903 - AUC: 0.7825\n",
            "Epoch 9/200\n",
            "371/371 [==============================] - 23s 63ms/step - loss: 0.5373 - tp: 263863.0000 - fp: 115948.0000 - tn: 263863.0000 - fn: 115948.0000 - accuracy: 0.6947 - precision: 0.6947 - recall: 0.6947 - AUC: 0.7875\n",
            "Epoch 10/200\n",
            "371/371 [==============================] - 23s 63ms/step - loss: 0.5324 - tp: 265211.0000 - fp: 114600.0000 - tn: 265211.0000 - fn: 114600.0000 - accuracy: 0.6983 - precision: 0.6983 - recall: 0.6983 - AUC: 0.7919\n",
            "Epoch 11/200\n",
            "371/371 [==============================] - 23s 63ms/step - loss: 0.5276 - tp: 266362.0000 - fp: 113449.0000 - tn: 266362.0000 - fn: 113449.0000 - accuracy: 0.7013 - precision: 0.7013 - recall: 0.7013 - AUC: 0.7960\n",
            "Epoch 12/200\n",
            "371/371 [==============================] - 23s 63ms/step - loss: 0.5232 - tp: 267191.0000 - fp: 112620.0000 - tn: 267191.0000 - fn: 112620.0000 - accuracy: 0.7035 - precision: 0.7035 - recall: 0.7035 - AUC: 0.7997\n",
            "Epoch 13/200\n",
            "371/371 [==============================] - 23s 63ms/step - loss: 0.5187 - tp: 268255.0000 - fp: 111556.0000 - tn: 268255.0000 - fn: 111556.0000 - accuracy: 0.7063 - precision: 0.7063 - recall: 0.7063 - AUC: 0.8033\n",
            "Epoch 14/200\n",
            "371/371 [==============================] - 23s 63ms/step - loss: 0.5136 - tp: 269550.0000 - fp: 110261.0000 - tn: 269550.0000 - fn: 110261.0000 - accuracy: 0.7097 - precision: 0.7097 - recall: 0.7097 - AUC: 0.8074\n",
            "Epoch 15/200\n",
            "371/371 [==============================] - 23s 62ms/step - loss: 0.5098 - tp: 270559.0000 - fp: 109252.0000 - tn: 270559.0000 - fn: 109252.0000 - accuracy: 0.7124 - precision: 0.7124 - recall: 0.7124 - AUC: 0.8110\n",
            "Epoch 16/200\n",
            "371/371 [==============================] - 23s 62ms/step - loss: 0.5055 - tp: 271683.0000 - fp: 108128.0000 - tn: 271683.0000 - fn: 108128.0000 - accuracy: 0.7153 - precision: 0.7153 - recall: 0.7153 - AUC: 0.8141\n",
            "Epoch 17/200\n",
            "371/371 [==============================] - 23s 63ms/step - loss: 0.5015 - tp: 272558.0000 - fp: 107253.0000 - tn: 272558.0000 - fn: 107253.0000 - accuracy: 0.7176 - precision: 0.7176 - recall: 0.7176 - AUC: 0.8173\n",
            "Epoch 18/200\n",
            "371/371 [==============================] - 23s 63ms/step - loss: 0.4969 - tp: 273557.0000 - fp: 106254.0000 - tn: 273557.0000 - fn: 106254.0000 - accuracy: 0.7202 - precision: 0.7202 - recall: 0.7202 - AUC: 0.8209\n",
            "Epoch 19/200\n",
            "371/371 [==============================] - 23s 63ms/step - loss: 0.4941 - tp: 274313.0000 - fp: 105498.0000 - tn: 274313.0000 - fn: 105498.0000 - accuracy: 0.7222 - precision: 0.7222 - recall: 0.7222 - AUC: 0.8231\n",
            "Epoch 20/200\n",
            "371/371 [==============================] - 23s 62ms/step - loss: 0.4899 - tp: 275194.0000 - fp: 104617.0000 - tn: 275194.0000 - fn: 104617.0000 - accuracy: 0.7246 - precision: 0.7246 - recall: 0.7246 - AUC: 0.8261\n",
            "Epoch 21/200\n",
            "371/371 [==============================] - 23s 63ms/step - loss: 0.4860 - tp: 275977.0000 - fp: 103834.0000 - tn: 275977.0000 - fn: 103834.0000 - accuracy: 0.7266 - precision: 0.7266 - recall: 0.7266 - AUC: 0.8290\n",
            "Epoch 22/200\n",
            "371/371 [==============================] - 23s 63ms/step - loss: 0.4828 - tp: 276990.0000 - fp: 102821.0000 - tn: 276990.0000 - fn: 102821.0000 - accuracy: 0.7293 - precision: 0.7293 - recall: 0.7293 - AUC: 0.8317\n",
            "Epoch 23/200\n",
            "371/371 [==============================] - 23s 62ms/step - loss: 0.4787 - tp: 277808.0000 - fp: 102003.0000 - tn: 277808.0000 - fn: 102003.0000 - accuracy: 0.7314 - precision: 0.7314 - recall: 0.7314 - AUC: 0.8345\n",
            "Epoch 24/200\n",
            "371/371 [==============================] - 23s 62ms/step - loss: 0.4756 - tp: 278501.0000 - fp: 101310.0000 - tn: 278501.0000 - fn: 101310.0000 - accuracy: 0.7333 - precision: 0.7333 - recall: 0.7333 - AUC: 0.8367\n",
            "Epoch 25/200\n",
            "371/371 [==============================] - 23s 63ms/step - loss: 0.4713 - tp: 279689.0000 - fp: 100122.0000 - tn: 279689.0000 - fn: 100122.0000 - accuracy: 0.7364 - precision: 0.7364 - recall: 0.7364 - AUC: 0.8402\n",
            "Epoch 26/200\n",
            "371/371 [==============================] - 23s 63ms/step - loss: 0.4683 - tp: 280264.0000 - fp: 99547.0000 - tn: 280264.0000 - fn: 99547.0000 - accuracy: 0.7379 - precision: 0.7379 - recall: 0.7379 - AUC: 0.8421\n",
            "Epoch 27/200\n",
            "371/371 [==============================] - 23s 63ms/step - loss: 0.4652 - tp: 281118.0000 - fp: 98693.0000 - tn: 281118.0000 - fn: 98693.0000 - accuracy: 0.7402 - precision: 0.7402 - recall: 0.7402 - AUC: 0.8442\n",
            "Epoch 28/200\n",
            "371/371 [==============================] - 23s 63ms/step - loss: 0.4616 - tp: 281914.0000 - fp: 97897.0000 - tn: 281914.0000 - fn: 97897.0000 - accuracy: 0.7422 - precision: 0.7422 - recall: 0.7422 - AUC: 0.8470\n",
            "Epoch 29/200\n",
            "371/371 [==============================] - 23s 63ms/step - loss: 0.4593 - tp: 282317.0000 - fp: 97494.0000 - tn: 282317.0000 - fn: 97494.0000 - accuracy: 0.7433 - precision: 0.7433 - recall: 0.7433 - AUC: 0.8486\n",
            "Epoch 30/200\n",
            "371/371 [==============================] - 23s 63ms/step - loss: 0.4558 - tp: 283000.0000 - fp: 96811.0000 - tn: 283000.0000 - fn: 96811.0000 - accuracy: 0.7451 - precision: 0.7451 - recall: 0.7451 - AUC: 0.8507\n",
            "Epoch 31/200\n",
            "371/371 [==============================] - 23s 63ms/step - loss: 0.4525 - tp: 283838.0000 - fp: 95973.0000 - tn: 283838.0000 - fn: 95973.0000 - accuracy: 0.7473 - precision: 0.7473 - recall: 0.7473 - AUC: 0.8531\n",
            "Epoch 32/200\n",
            "371/371 [==============================] - 23s 62ms/step - loss: 0.4495 - tp: 284888.0000 - fp: 94923.0000 - tn: 284888.0000 - fn: 94923.0000 - accuracy: 0.7501 - precision: 0.7501 - recall: 0.7501 - AUC: 0.8553\n",
            "Epoch 33/200\n",
            "371/371 [==============================] - 23s 63ms/step - loss: 0.4476 - tp: 284933.0000 - fp: 94878.0000 - tn: 284933.0000 - fn: 94878.0000 - accuracy: 0.7502 - precision: 0.7502 - recall: 0.7502 - AUC: 0.8563\n",
            "Epoch 34/200\n",
            "371/371 [==============================] - 23s 63ms/step - loss: 0.4449 - tp: 285357.0000 - fp: 94454.0000 - tn: 285357.0000 - fn: 94454.0000 - accuracy: 0.7513 - precision: 0.7513 - recall: 0.7513 - AUC: 0.8582\n",
            "Epoch 35/200\n",
            "371/371 [==============================] - 23s 63ms/step - loss: 0.4415 - tp: 286152.0000 - fp: 93659.0000 - tn: 286152.0000 - fn: 93659.0000 - accuracy: 0.7534 - precision: 0.7534 - recall: 0.7534 - AUC: 0.8603\n",
            "Epoch 36/200\n",
            "371/371 [==============================] - 23s 62ms/step - loss: 0.4385 - tp: 286985.0000 - fp: 92826.0000 - tn: 286985.0000 - fn: 92826.0000 - accuracy: 0.7556 - precision: 0.7556 - recall: 0.7556 - AUC: 0.8624\n",
            "Epoch 37/200\n",
            "371/371 [==============================] - 23s 62ms/step - loss: 0.4361 - tp: 287276.0000 - fp: 92535.0000 - tn: 287276.0000 - fn: 92535.0000 - accuracy: 0.7564 - precision: 0.7564 - recall: 0.7564 - AUC: 0.8636\n",
            "Epoch 38/200\n",
            "371/371 [==============================] - 23s 63ms/step - loss: 0.4337 - tp: 287895.0000 - fp: 91916.0000 - tn: 287895.0000 - fn: 91916.0000 - accuracy: 0.7580 - precision: 0.7580 - recall: 0.7580 - AUC: 0.8654\n",
            "Epoch 39/200\n",
            "371/371 [==============================] - 23s 63ms/step - loss: 0.4305 - tp: 288601.0000 - fp: 91210.0000 - tn: 288601.0000 - fn: 91210.0000 - accuracy: 0.7599 - precision: 0.7599 - recall: 0.7599 - AUC: 0.8672\n",
            "Epoch 40/200\n",
            "371/371 [==============================] - 23s 63ms/step - loss: 0.4289 - tp: 288929.0000 - fp: 90882.0000 - tn: 288929.0000 - fn: 90882.0000 - accuracy: 0.7607 - precision: 0.7607 - recall: 0.7607 - AUC: 0.8681\n",
            "Epoch 41/200\n",
            "371/371 [==============================] - 23s 63ms/step - loss: 0.4260 - tp: 289423.0000 - fp: 90388.0000 - tn: 289423.0000 - fn: 90388.0000 - accuracy: 0.7620 - precision: 0.7620 - recall: 0.7620 - AUC: 0.8699\n",
            "Epoch 42/200\n",
            "371/371 [==============================] - 23s 63ms/step - loss: 0.4241 - tp: 290238.0000 - fp: 89573.0000 - tn: 290238.0000 - fn: 89573.0000 - accuracy: 0.7642 - precision: 0.7642 - recall: 0.7642 - AUC: 0.8715\n",
            "Epoch 43/200\n",
            "371/371 [==============================] - 23s 63ms/step - loss: 0.4213 - tp: 290864.0000 - fp: 88947.0000 - tn: 290864.0000 - fn: 88947.0000 - accuracy: 0.7658 - precision: 0.7658 - recall: 0.7658 - AUC: 0.8733\n",
            "Epoch 44/200\n",
            "371/371 [==============================] - 23s 63ms/step - loss: 0.4203 - tp: 290707.0000 - fp: 89104.0000 - tn: 290707.0000 - fn: 89104.0000 - accuracy: 0.7654 - precision: 0.7654 - recall: 0.7654 - AUC: 0.8734\n",
            "Epoch 45/200\n",
            "371/371 [==============================] - 23s 63ms/step - loss: 0.4171 - tp: 291591.0000 - fp: 88220.0000 - tn: 291591.0000 - fn: 88220.0000 - accuracy: 0.7677 - precision: 0.7677 - recall: 0.7677 - AUC: 0.8755\n",
            "Epoch 46/200\n",
            "371/371 [==============================] - 23s 63ms/step - loss: 0.4147 - tp: 291819.0000 - fp: 87992.0000 - tn: 291819.0000 - fn: 87992.0000 - accuracy: 0.7683 - precision: 0.7683 - recall: 0.7683 - AUC: 0.8770\n",
            "Epoch 47/200\n",
            "371/371 [==============================] - 23s 63ms/step - loss: 0.4126 - tp: 292221.0000 - fp: 87590.0000 - tn: 292221.0000 - fn: 87590.0000 - accuracy: 0.7694 - precision: 0.7694 - recall: 0.7694 - AUC: 0.8782\n",
            "Epoch 48/200\n",
            "371/371 [==============================] - 24s 63ms/step - loss: 0.4105 - tp: 292654.0000 - fp: 87157.0000 - tn: 292654.0000 - fn: 87157.0000 - accuracy: 0.7705 - precision: 0.7705 - recall: 0.7705 - AUC: 0.8793\n",
            "Epoch 49/200\n",
            "371/371 [==============================] - 23s 63ms/step - loss: 0.4073 - tp: 293570.0000 - fp: 86241.0000 - tn: 293570.0000 - fn: 86241.0000 - accuracy: 0.7729 - precision: 0.7729 - recall: 0.7729 - AUC: 0.8813\n",
            "Epoch 50/200\n",
            "371/371 [==============================] - 23s 63ms/step - loss: 0.4061 - tp: 293961.0000 - fp: 85850.0000 - tn: 293961.0000 - fn: 85850.0000 - accuracy: 0.7740 - precision: 0.7740 - recall: 0.7740 - AUC: 0.8821\n",
            "Epoch 51/200\n",
            "371/371 [==============================] - 23s 63ms/step - loss: 0.4039 - tp: 294474.0000 - fp: 85337.0000 - tn: 294474.0000 - fn: 85337.0000 - accuracy: 0.7753 - precision: 0.7753 - recall: 0.7753 - AUC: 0.8834\n",
            "Epoch 52/200\n",
            "371/371 [==============================] - 24s 63ms/step - loss: 0.4036 - tp: 294562.0000 - fp: 85249.0000 - tn: 294562.0000 - fn: 85249.0000 - accuracy: 0.7755 - precision: 0.7755 - recall: 0.7755 - AUC: 0.8838\n",
            "Epoch 53/200\n",
            "371/371 [==============================] - 23s 63ms/step - loss: 0.4001 - tp: 295194.0000 - fp: 84617.0000 - tn: 295194.0000 - fn: 84617.0000 - accuracy: 0.7772 - precision: 0.7772 - recall: 0.7772 - AUC: 0.8857\n",
            "Epoch 54/200\n",
            "371/371 [==============================] - 23s 63ms/step - loss: 0.3978 - tp: 295370.0000 - fp: 84441.0000 - tn: 295370.0000 - fn: 84441.0000 - accuracy: 0.7777 - precision: 0.7777 - recall: 0.7777 - AUC: 0.8867\n",
            "Epoch 55/200\n",
            "371/371 [==============================] - 24s 63ms/step - loss: 0.3976 - tp: 295867.0000 - fp: 83944.0000 - tn: 295867.0000 - fn: 83944.0000 - accuracy: 0.7790 - precision: 0.7790 - recall: 0.7790 - AUC: 0.8872\n",
            "Epoch 56/200\n",
            "371/371 [==============================] - 23s 63ms/step - loss: 0.3954 - tp: 295691.0000 - fp: 84120.0000 - tn: 295691.0000 - fn: 84120.0000 - accuracy: 0.7785 - precision: 0.7785 - recall: 0.7785 - AUC: 0.8882\n",
            "Epoch 57/200\n",
            "371/371 [==============================] - 23s 62ms/step - loss: 0.3926 - tp: 296805.0000 - fp: 83006.0000 - tn: 296805.0000 - fn: 83006.0000 - accuracy: 0.7815 - precision: 0.7815 - recall: 0.7815 - AUC: 0.8899\n",
            "Epoch 58/200\n",
            "371/371 [==============================] - 23s 63ms/step - loss: 0.3909 - tp: 297214.0000 - fp: 82597.0000 - tn: 297214.0000 - fn: 82597.0000 - accuracy: 0.7825 - precision: 0.7825 - recall: 0.7825 - AUC: 0.8910\n",
            "Epoch 59/200\n",
            "371/371 [==============================] - 23s 63ms/step - loss: 0.3890 - tp: 297303.0000 - fp: 82508.0000 - tn: 297303.0000 - fn: 82508.0000 - accuracy: 0.7828 - precision: 0.7828 - recall: 0.7828 - AUC: 0.8915\n",
            "Epoch 60/200\n",
            "371/371 [==============================] - 23s 63ms/step - loss: 0.3881 - tp: 297738.0000 - fp: 82073.0000 - tn: 297738.0000 - fn: 82073.0000 - accuracy: 0.7839 - precision: 0.7839 - recall: 0.7839 - AUC: 0.8926\n",
            "Epoch 61/200\n",
            "371/371 [==============================] - 23s 63ms/step - loss: 0.3858 - tp: 297902.0000 - fp: 81909.0000 - tn: 297902.0000 - fn: 81909.0000 - accuracy: 0.7843 - precision: 0.7843 - recall: 0.7843 - AUC: 0.8935\n",
            "Epoch 62/200\n",
            "371/371 [==============================] - 23s 63ms/step - loss: 0.3848 - tp: 298422.0000 - fp: 81389.0000 - tn: 298422.0000 - fn: 81389.0000 - accuracy: 0.7857 - precision: 0.7857 - recall: 0.7857 - AUC: 0.8942\n",
            "Epoch 63/200\n",
            "371/371 [==============================] - 24s 64ms/step - loss: 0.3825 - tp: 298999.0000 - fp: 80812.0000 - tn: 298999.0000 - fn: 80812.0000 - accuracy: 0.7872 - precision: 0.7872 - recall: 0.7872 - AUC: 0.8959\n",
            "Epoch 64/200\n",
            "371/371 [==============================] - 23s 63ms/step - loss: 0.3809 - tp: 299035.0000 - fp: 80775.0000 - tn: 299036.0000 - fn: 80776.0000 - accuracy: 0.7873 - precision: 0.7873 - recall: 0.7873 - AUC: 0.8961\n",
            "Epoch 65/200\n",
            "371/371 [==============================] - 23s 63ms/step - loss: 0.3788 - tp: 299321.0000 - fp: 80490.0000 - tn: 299321.0000 - fn: 80490.0000 - accuracy: 0.7881 - precision: 0.7881 - recall: 0.7881 - AUC: 0.8973\n",
            "Epoch 66/200\n",
            "371/371 [==============================] - 23s 63ms/step - loss: 0.3777 - tp: 299578.0000 - fp: 80233.0000 - tn: 299578.0000 - fn: 80233.0000 - accuracy: 0.7888 - precision: 0.7888 - recall: 0.7888 - AUC: 0.8980\n",
            "Epoch 67/200\n",
            "371/371 [==============================] - 23s 63ms/step - loss: 0.3779 - tp: 299867.0000 - fp: 79944.0000 - tn: 299867.0000 - fn: 79944.0000 - accuracy: 0.7895 - precision: 0.7895 - recall: 0.7895 - AUC: 0.8980\n",
            "Epoch 68/200\n",
            "371/371 [==============================] - 24s 64ms/step - loss: 0.3746 - tp: 300440.0000 - fp: 79371.0000 - tn: 300440.0000 - fn: 79371.0000 - accuracy: 0.7910 - precision: 0.7910 - recall: 0.7910 - AUC: 0.8996\n",
            "Epoch 69/200\n",
            "371/371 [==============================] - 24s 64ms/step - loss: 0.3734 - tp: 301023.0000 - fp: 78788.0000 - tn: 301023.0000 - fn: 78788.0000 - accuracy: 0.7926 - precision: 0.7926 - recall: 0.7926 - AUC: 0.9006\n",
            "Epoch 70/200\n",
            "371/371 [==============================] - 24s 64ms/step - loss: 0.3718 - tp: 300829.0000 - fp: 78982.0000 - tn: 300829.0000 - fn: 78982.0000 - accuracy: 0.7920 - precision: 0.7920 - recall: 0.7920 - AUC: 0.9011\n",
            "Epoch 71/200\n",
            "371/371 [==============================] - 24s 64ms/step - loss: 0.3708 - tp: 301378.0000 - fp: 78433.0000 - tn: 301378.0000 - fn: 78433.0000 - accuracy: 0.7935 - precision: 0.7935 - recall: 0.7935 - AUC: 0.9017\n",
            "Epoch 72/200\n",
            "371/371 [==============================] - 24s 64ms/step - loss: 0.3694 - tp: 301500.0000 - fp: 78311.0000 - tn: 301500.0000 - fn: 78311.0000 - accuracy: 0.7938 - precision: 0.7938 - recall: 0.7938 - AUC: 0.9022\n",
            "Epoch 73/200\n",
            "371/371 [==============================] - 24s 64ms/step - loss: 0.3679 - tp: 301788.0000 - fp: 78023.0000 - tn: 301788.0000 - fn: 78023.0000 - accuracy: 0.7946 - precision: 0.7946 - recall: 0.7946 - AUC: 0.9031\n",
            "Epoch 74/200\n",
            "371/371 [==============================] - 24s 64ms/step - loss: 0.3672 - tp: 301873.0000 - fp: 77938.0000 - tn: 301873.0000 - fn: 77938.0000 - accuracy: 0.7948 - precision: 0.7948 - recall: 0.7948 - AUC: 0.9035\n",
            "Epoch 75/200\n",
            "371/371 [==============================] - 24s 64ms/step - loss: 0.3654 - tp: 302488.0000 - fp: 77323.0000 - tn: 302488.0000 - fn: 77323.0000 - accuracy: 0.7964 - precision: 0.7964 - recall: 0.7964 - AUC: 0.9046\n",
            "Epoch 76/200\n",
            "371/371 [==============================] - 24s 64ms/step - loss: 0.3641 - tp: 302721.0000 - fp: 77090.0000 - tn: 302721.0000 - fn: 77090.0000 - accuracy: 0.7970 - precision: 0.7970 - recall: 0.7970 - AUC: 0.9051\n",
            "Epoch 77/200\n",
            "371/371 [==============================] - 24s 64ms/step - loss: 0.3626 - tp: 302988.0000 - fp: 76823.0000 - tn: 302988.0000 - fn: 76823.0000 - accuracy: 0.7977 - precision: 0.7977 - recall: 0.7977 - AUC: 0.9060\n",
            "Epoch 78/200\n",
            "371/371 [==============================] - 24s 64ms/step - loss: 0.3613 - tp: 303096.0000 - fp: 76715.0000 - tn: 303096.0000 - fn: 76715.0000 - accuracy: 0.7980 - precision: 0.7980 - recall: 0.7980 - AUC: 0.9065\n",
            "Epoch 79/200\n",
            "371/371 [==============================] - 24s 64ms/step - loss: 0.3606 - tp: 303340.0000 - fp: 76471.0000 - tn: 303340.0000 - fn: 76471.0000 - accuracy: 0.7987 - precision: 0.7987 - recall: 0.7987 - AUC: 0.9070\n",
            "Epoch 80/200\n",
            "371/371 [==============================] - 24s 64ms/step - loss: 0.3575 - tp: 304210.0000 - fp: 75601.0000 - tn: 304210.0000 - fn: 75601.0000 - accuracy: 0.8010 - precision: 0.8010 - recall: 0.8010 - AUC: 0.9086\n",
            "Epoch 81/200\n",
            "371/371 [==============================] - 24s 64ms/step - loss: 0.3574 - tp: 304213.0000 - fp: 75598.0000 - tn: 304213.0000 - fn: 75598.0000 - accuracy: 0.8010 - precision: 0.8010 - recall: 0.8010 - AUC: 0.9087\n",
            "Epoch 82/200\n",
            "371/371 [==============================] - 24s 64ms/step - loss: 0.3571 - tp: 304170.0000 - fp: 75641.0000 - tn: 304170.0000 - fn: 75641.0000 - accuracy: 0.8008 - precision: 0.8008 - recall: 0.8008 - AUC: 0.9088\n",
            "Epoch 83/200\n",
            "371/371 [==============================] - 24s 64ms/step - loss: 0.3580 - tp: 304067.0000 - fp: 75744.0000 - tn: 304067.0000 - fn: 75744.0000 - accuracy: 0.8006 - precision: 0.8006 - recall: 0.8006 - AUC: 0.9084\n",
            "Epoch 84/200\n",
            "371/371 [==============================] - 24s 64ms/step - loss: 0.3537 - tp: 305036.0000 - fp: 74775.0000 - tn: 305036.0000 - fn: 74775.0000 - accuracy: 0.8031 - precision: 0.8031 - recall: 0.8031 - AUC: 0.9105\n",
            "Epoch 85/200\n",
            "371/371 [==============================] - 24s 64ms/step - loss: 0.3525 - tp: 305263.0000 - fp: 74548.0000 - tn: 305263.0000 - fn: 74548.0000 - accuracy: 0.8037 - precision: 0.8037 - recall: 0.8037 - AUC: 0.9113\n",
            "Epoch 86/200\n",
            "371/371 [==============================] - 24s 64ms/step - loss: 0.3518 - tp: 305600.0000 - fp: 74211.0000 - tn: 305600.0000 - fn: 74211.0000 - accuracy: 0.8046 - precision: 0.8046 - recall: 0.8046 - AUC: 0.9116\n",
            "Epoch 87/200\n",
            "371/371 [==============================] - 24s 64ms/step - loss: 0.3511 - tp: 305738.0000 - fp: 74073.0000 - tn: 305738.0000 - fn: 74073.0000 - accuracy: 0.8050 - precision: 0.8050 - recall: 0.8050 - AUC: 0.9119\n",
            "Epoch 88/200\n",
            "371/371 [==============================] - 24s 64ms/step - loss: 0.3492 - tp: 306238.0000 - fp: 73573.0000 - tn: 306238.0000 - fn: 73573.0000 - accuracy: 0.8063 - precision: 0.8063 - recall: 0.8063 - AUC: 0.9130\n",
            "Epoch 89/200\n",
            "371/371 [==============================] - 24s 64ms/step - loss: 0.3494 - tp: 305993.0000 - fp: 73818.0000 - tn: 305993.0000 - fn: 73818.0000 - accuracy: 0.8056 - precision: 0.8056 - recall: 0.8056 - AUC: 0.9128\n",
            "Epoch 90/200\n",
            "371/371 [==============================] - 24s 64ms/step - loss: 0.3473 - tp: 306454.0000 - fp: 73357.0000 - tn: 306454.0000 - fn: 73357.0000 - accuracy: 0.8069 - precision: 0.8069 - recall: 0.8069 - AUC: 0.9137\n",
            "Epoch 91/200\n",
            "371/371 [==============================] - 24s 64ms/step - loss: 0.3474 - tp: 306658.0000 - fp: 73153.0000 - tn: 306658.0000 - fn: 73153.0000 - accuracy: 0.8074 - precision: 0.8074 - recall: 0.8074 - AUC: 0.9139\n",
            "Epoch 92/200\n",
            "371/371 [==============================] - 24s 64ms/step - loss: 0.3449 - tp: 306698.0000 - fp: 73113.0000 - tn: 306698.0000 - fn: 73113.0000 - accuracy: 0.8075 - precision: 0.8075 - recall: 0.8075 - AUC: 0.9147\n",
            "Epoch 93/200\n",
            "371/371 [==============================] - 24s 64ms/step - loss: 0.3451 - tp: 306749.0000 - fp: 73062.0000 - tn: 306749.0000 - fn: 73062.0000 - accuracy: 0.8076 - precision: 0.8076 - recall: 0.8076 - AUC: 0.9148\n",
            "Epoch 94/200\n",
            "371/371 [==============================] - 24s 64ms/step - loss: 0.3436 - tp: 307043.0000 - fp: 72768.0000 - tn: 307043.0000 - fn: 72768.0000 - accuracy: 0.8084 - precision: 0.8084 - recall: 0.8084 - AUC: 0.9153\n",
            "Epoch 95/200\n",
            "371/371 [==============================] - 24s 64ms/step - loss: 0.3428 - tp: 307083.0000 - fp: 72728.0000 - tn: 307083.0000 - fn: 72728.0000 - accuracy: 0.8085 - precision: 0.8085 - recall: 0.8085 - AUC: 0.9158\n",
            "Epoch 96/200\n",
            "371/371 [==============================] - 24s 64ms/step - loss: 0.3409 - tp: 307957.0000 - fp: 71854.0000 - tn: 307957.0000 - fn: 71854.0000 - accuracy: 0.8108 - precision: 0.8108 - recall: 0.8108 - AUC: 0.9171\n",
            "Epoch 97/200\n",
            "371/371 [==============================] - 24s 64ms/step - loss: 0.3416 - tp: 307773.0000 - fp: 72038.0000 - tn: 307773.0000 - fn: 72038.0000 - accuracy: 0.8103 - precision: 0.8103 - recall: 0.8103 - AUC: 0.9166\n",
            "Epoch 98/200\n",
            "371/371 [==============================] - 24s 64ms/step - loss: 0.3397 - tp: 307997.0000 - fp: 71814.0000 - tn: 307997.0000 - fn: 71814.0000 - accuracy: 0.8109 - precision: 0.8109 - recall: 0.8109 - AUC: 0.9175\n",
            "Epoch 99/200\n",
            "371/371 [==============================] - 24s 64ms/step - loss: 0.3394 - tp: 308189.0000 - fp: 71622.0000 - tn: 308189.0000 - fn: 71622.0000 - accuracy: 0.8114 - precision: 0.8114 - recall: 0.8114 - AUC: 0.9176\n",
            "Epoch 100/200\n",
            "371/371 [==============================] - 24s 64ms/step - loss: 0.3382 - tp: 308229.0000 - fp: 71582.0000 - tn: 308229.0000 - fn: 71582.0000 - accuracy: 0.8115 - precision: 0.8115 - recall: 0.8115 - AUC: 0.9181\n",
            "Epoch 101/200\n",
            "371/371 [==============================] - 24s 64ms/step - loss: 0.3382 - tp: 308369.0000 - fp: 71442.0000 - tn: 308369.0000 - fn: 71442.0000 - accuracy: 0.8119 - precision: 0.8119 - recall: 0.8119 - AUC: 0.9183\n",
            "Epoch 102/200\n",
            "371/371 [==============================] - 24s 64ms/step - loss: 0.3363 - tp: 308681.0000 - fp: 71130.0000 - tn: 308681.0000 - fn: 71130.0000 - accuracy: 0.8127 - precision: 0.8127 - recall: 0.8127 - AUC: 0.9191\n",
            "Epoch 103/200\n",
            "371/371 [==============================] - 24s 64ms/step - loss: 0.3362 - tp: 308703.0000 - fp: 71108.0000 - tn: 308703.0000 - fn: 71108.0000 - accuracy: 0.8128 - precision: 0.8128 - recall: 0.8128 - AUC: 0.9191\n",
            "Epoch 104/200\n",
            "371/371 [==============================] - 24s 64ms/step - loss: 0.3341 - tp: 309256.0000 - fp: 70555.0000 - tn: 309256.0000 - fn: 70555.0000 - accuracy: 0.8142 - precision: 0.8142 - recall: 0.8142 - AUC: 0.9201\n",
            "Epoch 105/200\n",
            "371/371 [==============================] - 24s 64ms/step - loss: 0.3336 - tp: 309234.0000 - fp: 70577.0000 - tn: 309234.0000 - fn: 70577.0000 - accuracy: 0.8142 - precision: 0.8142 - recall: 0.8142 - AUC: 0.9204\n",
            "Epoch 106/200\n",
            "371/371 [==============================] - 24s 64ms/step - loss: 0.3344 - tp: 309307.0000 - fp: 70504.0000 - tn: 309307.0000 - fn: 70504.0000 - accuracy: 0.8144 - precision: 0.8144 - recall: 0.8144 - AUC: 0.9201\n",
            "Epoch 107/200\n",
            "371/371 [==============================] - 24s 64ms/step - loss: 0.3322 - tp: 309646.0000 - fp: 70165.0000 - tn: 309646.0000 - fn: 70165.0000 - accuracy: 0.8153 - precision: 0.8153 - recall: 0.8153 - AUC: 0.9211\n",
            "Epoch 108/200\n",
            "371/371 [==============================] - 24s 64ms/step - loss: 0.3322 - tp: 309757.0000 - fp: 70054.0000 - tn: 309757.0000 - fn: 70054.0000 - accuracy: 0.8156 - precision: 0.8156 - recall: 0.8156 - AUC: 0.9213\n",
            "Epoch 109/200\n",
            "371/371 [==============================] - 24s 64ms/step - loss: 0.3294 - tp: 310307.0000 - fp: 69504.0000 - tn: 310307.0000 - fn: 69504.0000 - accuracy: 0.8170 - precision: 0.8170 - recall: 0.8170 - AUC: 0.9224\n",
            "Epoch 110/200\n",
            "371/371 [==============================] - 24s 64ms/step - loss: 0.3307 - tp: 309660.0000 - fp: 70151.0000 - tn: 309660.0000 - fn: 70151.0000 - accuracy: 0.8153 - precision: 0.8153 - recall: 0.8153 - AUC: 0.9216\n",
            "Epoch 111/200\n",
            "371/371 [==============================] - 24s 64ms/step - loss: 0.3294 - tp: 310089.0000 - fp: 69722.0000 - tn: 310089.0000 - fn: 69722.0000 - accuracy: 0.8164 - precision: 0.8164 - recall: 0.8164 - AUC: 0.9222\n",
            "Epoch 112/200\n",
            "371/371 [==============================] - 24s 64ms/step - loss: 0.3274 - tp: 310813.0000 - fp: 68998.0000 - tn: 310813.0000 - fn: 68998.0000 - accuracy: 0.8183 - precision: 0.8183 - recall: 0.8183 - AUC: 0.9235\n",
            "Epoch 113/200\n",
            "371/371 [==============================] - 24s 64ms/step - loss: 0.3281 - tp: 310719.0000 - fp: 69092.0000 - tn: 310719.0000 - fn: 69092.0000 - accuracy: 0.8181 - precision: 0.8181 - recall: 0.8181 - AUC: 0.9232\n",
            "Epoch 114/200\n",
            "371/371 [==============================] - 24s 64ms/step - loss: 0.3257 - tp: 310946.0000 - fp: 68865.0000 - tn: 310946.0000 - fn: 68865.0000 - accuracy: 0.8187 - precision: 0.8187 - recall: 0.8187 - AUC: 0.9240\n",
            "Epoch 115/200\n",
            "371/371 [==============================] - 24s 64ms/step - loss: 0.3260 - tp: 310930.0000 - fp: 68881.0000 - tn: 310930.0000 - fn: 68881.0000 - accuracy: 0.8186 - precision: 0.8186 - recall: 0.8186 - AUC: 0.9240\n",
            "Epoch 116/200\n",
            "371/371 [==============================] - 24s 64ms/step - loss: 0.3252 - tp: 311022.0000 - fp: 68789.0000 - tn: 311022.0000 - fn: 68789.0000 - accuracy: 0.8189 - precision: 0.8189 - recall: 0.8189 - AUC: 0.9243\n",
            "Epoch 117/200\n",
            "371/371 [==============================] - 24s 64ms/step - loss: 0.3237 - tp: 311605.0000 - fp: 68206.0000 - tn: 311605.0000 - fn: 68206.0000 - accuracy: 0.8204 - precision: 0.8204 - recall: 0.8204 - AUC: 0.9251\n",
            "Epoch 118/200\n",
            "371/371 [==============================] - 24s 64ms/step - loss: 0.3246 - tp: 311382.0000 - fp: 68429.0000 - tn: 311382.0000 - fn: 68429.0000 - accuracy: 0.8198 - precision: 0.8198 - recall: 0.8198 - AUC: 0.9247\n",
            "Epoch 119/200\n",
            "371/371 [==============================] - 24s 64ms/step - loss: 0.3228 - tp: 311378.0000 - fp: 68433.0000 - tn: 311378.0000 - fn: 68433.0000 - accuracy: 0.8198 - precision: 0.8198 - recall: 0.8198 - AUC: 0.9252\n",
            "Epoch 120/200\n",
            "371/371 [==============================] - 24s 64ms/step - loss: 0.3210 - tp: 311982.0000 - fp: 67829.0000 - tn: 311982.0000 - fn: 67829.0000 - accuracy: 0.8214 - precision: 0.8214 - recall: 0.8214 - AUC: 0.9263\n",
            "Epoch 121/200\n",
            "371/371 [==============================] - 24s 64ms/step - loss: 0.3203 - tp: 311897.0000 - fp: 67913.0000 - tn: 311898.0000 - fn: 67914.0000 - accuracy: 0.8212 - precision: 0.8212 - recall: 0.8212 - AUC: 0.9265\n",
            "Epoch 122/200\n",
            "371/371 [==============================] - 24s 64ms/step - loss: 0.3179 - tp: 312652.0000 - fp: 67159.0000 - tn: 312652.0000 - fn: 67159.0000 - accuracy: 0.8232 - precision: 0.8232 - recall: 0.8232 - AUC: 0.9275\n",
            "Epoch 123/200\n",
            "371/371 [==============================] - 24s 65ms/step - loss: 0.3205 - tp: 312004.0000 - fp: 67807.0000 - tn: 312004.0000 - fn: 67807.0000 - accuracy: 0.8215 - precision: 0.8215 - recall: 0.8215 - AUC: 0.9265\n",
            "Epoch 124/200\n",
            "371/371 [==============================] - 24s 64ms/step - loss: 0.3193 - tp: 312424.0000 - fp: 67387.0000 - tn: 312424.0000 - fn: 67387.0000 - accuracy: 0.8226 - precision: 0.8226 - recall: 0.8226 - AUC: 0.9271\n",
            "Epoch 125/200\n",
            "371/371 [==============================] - 24s 64ms/step - loss: 0.3195 - tp: 312323.0000 - fp: 67488.0000 - tn: 312323.0000 - fn: 67488.0000 - accuracy: 0.8223 - precision: 0.8223 - recall: 0.8223 - AUC: 0.9271\n",
            "Epoch 126/200\n",
            "371/371 [==============================] - 24s 65ms/step - loss: 0.3175 - tp: 312837.0000 - fp: 66974.0000 - tn: 312837.0000 - fn: 66974.0000 - accuracy: 0.8237 - precision: 0.8237 - recall: 0.8237 - AUC: 0.9278\n",
            "Epoch 127/200\n",
            "371/371 [==============================] - 24s 64ms/step - loss: 0.3173 - tp: 312473.0000 - fp: 67338.0000 - tn: 312473.0000 - fn: 67338.0000 - accuracy: 0.8227 - precision: 0.8227 - recall: 0.8227 - AUC: 0.9277\n",
            "Epoch 128/200\n",
            "371/371 [==============================] - 24s 65ms/step - loss: 0.3165 - tp: 312782.0000 - fp: 67029.0000 - tn: 312782.0000 - fn: 67029.0000 - accuracy: 0.8235 - precision: 0.8235 - recall: 0.8235 - AUC: 0.9281\n",
            "Epoch 129/200\n",
            "371/371 [==============================] - 24s 64ms/step - loss: 0.3170 - tp: 313106.0000 - fp: 66705.0000 - tn: 313106.0000 - fn: 66705.0000 - accuracy: 0.8244 - precision: 0.8244 - recall: 0.8244 - AUC: 0.9282\n",
            "Epoch 130/200\n",
            "371/371 [==============================] - 24s 64ms/step - loss: 0.3155 - tp: 313318.0000 - fp: 66493.0000 - tn: 313318.0000 - fn: 66493.0000 - accuracy: 0.8249 - precision: 0.8249 - recall: 0.8249 - AUC: 0.9288\n",
            "Epoch 131/200\n",
            "371/371 [==============================] - 24s 64ms/step - loss: 0.3142 - tp: 313179.0000 - fp: 66632.0000 - tn: 313179.0000 - fn: 66632.0000 - accuracy: 0.8246 - precision: 0.8246 - recall: 0.8246 - AUC: 0.9293\n",
            "Epoch 132/200\n",
            "371/371 [==============================] - 24s 64ms/step - loss: 0.3135 - tp: 313614.0000 - fp: 66197.0000 - tn: 313614.0000 - fn: 66197.0000 - accuracy: 0.8257 - precision: 0.8257 - recall: 0.8257 - AUC: 0.9298\n",
            "Epoch 133/200\n",
            "371/371 [==============================] - 24s 64ms/step - loss: 0.3141 - tp: 313832.0000 - fp: 65979.0000 - tn: 313832.0000 - fn: 65979.0000 - accuracy: 0.8263 - precision: 0.8263 - recall: 0.8263 - AUC: 0.9296\n",
            "Epoch 134/200\n",
            "371/371 [==============================] - 24s 64ms/step - loss: 0.3124 - tp: 313915.0000 - fp: 65896.0000 - tn: 313915.0000 - fn: 65896.0000 - accuracy: 0.8265 - precision: 0.8265 - recall: 0.8265 - AUC: 0.9302\n",
            "Epoch 135/200\n",
            "371/371 [==============================] - 24s 65ms/step - loss: 0.3105 - tp: 314328.0000 - fp: 65483.0000 - tn: 314328.0000 - fn: 65483.0000 - accuracy: 0.8276 - precision: 0.8276 - recall: 0.8276 - AUC: 0.9309\n",
            "Epoch 136/200\n",
            "371/371 [==============================] - 24s 64ms/step - loss: 0.3094 - tp: 314525.0000 - fp: 65286.0000 - tn: 314525.0000 - fn: 65286.0000 - accuracy: 0.8281 - precision: 0.8281 - recall: 0.8281 - AUC: 0.9315\n",
            "Epoch 137/200\n",
            "371/371 [==============================] - 24s 64ms/step - loss: 0.3119 - tp: 313849.0000 - fp: 65962.0000 - tn: 313849.0000 - fn: 65962.0000 - accuracy: 0.8263 - precision: 0.8263 - recall: 0.8263 - AUC: 0.9302\n",
            "Epoch 138/200\n",
            "371/371 [==============================] - 24s 64ms/step - loss: 0.3106 - tp: 314115.0000 - fp: 65696.0000 - tn: 314115.0000 - fn: 65696.0000 - accuracy: 0.8270 - precision: 0.8270 - recall: 0.8270 - AUC: 0.9308\n",
            "Epoch 139/200\n",
            "371/371 [==============================] - 24s 64ms/step - loss: 0.3094 - tp: 314607.0000 - fp: 65204.0000 - tn: 314607.0000 - fn: 65204.0000 - accuracy: 0.8283 - precision: 0.8283 - recall: 0.8283 - AUC: 0.9315\n",
            "Epoch 140/200\n",
            "371/371 [==============================] - 24s 64ms/step - loss: 0.3088 - tp: 314526.0000 - fp: 65285.0000 - tn: 314526.0000 - fn: 65285.0000 - accuracy: 0.8281 - precision: 0.8281 - recall: 0.8281 - AUC: 0.9317\n",
            "Epoch 141/200\n",
            "371/371 [==============================] - 24s 64ms/step - loss: 0.3102 - tp: 314561.0000 - fp: 65250.0000 - tn: 314561.0000 - fn: 65250.0000 - accuracy: 0.8282 - precision: 0.8282 - recall: 0.8282 - AUC: 0.9313\n",
            "Epoch 142/200\n",
            "371/371 [==============================] - 24s 64ms/step - loss: 0.3088 - tp: 314689.0000 - fp: 65122.0000 - tn: 314689.0000 - fn: 65122.0000 - accuracy: 0.8285 - precision: 0.8285 - recall: 0.8285 - AUC: 0.9317\n",
            "Epoch 143/200\n",
            "371/371 [==============================] - 24s 65ms/step - loss: 0.3071 - tp: 314942.0000 - fp: 64869.0000 - tn: 314942.0000 - fn: 64869.0000 - accuracy: 0.8292 - precision: 0.8292 - recall: 0.8292 - AUC: 0.9324\n",
            "Epoch 144/200\n",
            "371/371 [==============================] - 24s 65ms/step - loss: 0.3045 - tp: 315442.0000 - fp: 64369.0000 - tn: 315442.0000 - fn: 64369.0000 - accuracy: 0.8305 - precision: 0.8305 - recall: 0.8305 - AUC: 0.9334\n",
            "Epoch 145/200\n",
            "371/371 [==============================] - 24s 64ms/step - loss: 0.3070 - tp: 315294.0000 - fp: 64517.0000 - tn: 315294.0000 - fn: 64517.0000 - accuracy: 0.8301 - precision: 0.8301 - recall: 0.8301 - AUC: 0.9327\n",
            "Epoch 146/200\n",
            "371/371 [==============================] - 24s 64ms/step - loss: 0.3070 - tp: 314973.0000 - fp: 64838.0000 - tn: 314973.0000 - fn: 64838.0000 - accuracy: 0.8293 - precision: 0.8293 - recall: 0.8293 - AUC: 0.9325\n",
            "Epoch 147/200\n",
            "371/371 [==============================] - 24s 65ms/step - loss: 0.3058 - tp: 315626.0000 - fp: 64185.0000 - tn: 315626.0000 - fn: 64185.0000 - accuracy: 0.8310 - precision: 0.8310 - recall: 0.8310 - AUC: 0.9332\n",
            "Epoch 148/200\n",
            "371/371 [==============================] - 24s 65ms/step - loss: 0.3051 - tp: 315542.0000 - fp: 64269.0000 - tn: 315542.0000 - fn: 64269.0000 - accuracy: 0.8308 - precision: 0.8308 - recall: 0.8308 - AUC: 0.9334\n",
            "Epoch 149/200\n",
            "371/371 [==============================] - 24s 65ms/step - loss: 0.3031 - tp: 315945.0000 - fp: 63866.0000 - tn: 315945.0000 - fn: 63866.0000 - accuracy: 0.8318 - precision: 0.8318 - recall: 0.8318 - AUC: 0.9341\n",
            "Epoch 150/200\n",
            "371/371 [==============================] - 24s 64ms/step - loss: 0.3037 - tp: 315873.0000 - fp: 63937.0000 - tn: 315874.0000 - fn: 63938.0000 - accuracy: 0.8317 - precision: 0.8317 - recall: 0.8317 - AUC: 0.9339\n",
            "Epoch 151/200\n",
            "371/371 [==============================] - 24s 64ms/step - loss: 0.3024 - tp: 316169.0000 - fp: 63642.0000 - tn: 316169.0000 - fn: 63642.0000 - accuracy: 0.8324 - precision: 0.8324 - recall: 0.8324 - AUC: 0.9346\n",
            "Epoch 152/200\n",
            "371/371 [==============================] - 24s 64ms/step - loss: 0.3022 - tp: 316091.0000 - fp: 63720.0000 - tn: 316091.0000 - fn: 63720.0000 - accuracy: 0.8322 - precision: 0.8322 - recall: 0.8322 - AUC: 0.9346\n",
            "Epoch 153/200\n",
            "371/371 [==============================] - 24s 64ms/step - loss: 0.3040 - tp: 315958.0000 - fp: 63853.0000 - tn: 315958.0000 - fn: 63853.0000 - accuracy: 0.8319 - precision: 0.8319 - recall: 0.8319 - AUC: 0.9341\n",
            "Epoch 154/200\n",
            "371/371 [==============================] - 24s 64ms/step - loss: 0.3000 - tp: 316442.0000 - fp: 63369.0000 - tn: 316442.0000 - fn: 63369.0000 - accuracy: 0.8332 - precision: 0.8332 - recall: 0.8332 - AUC: 0.9354\n",
            "Epoch 155/200\n",
            "371/371 [==============================] - 24s 64ms/step - loss: 0.3010 - tp: 316505.0000 - fp: 63306.0000 - tn: 316505.0000 - fn: 63306.0000 - accuracy: 0.8333 - precision: 0.8333 - recall: 0.8333 - AUC: 0.9353\n",
            "Epoch 156/200\n",
            "371/371 [==============================] - 24s 65ms/step - loss: 0.3016 - tp: 316272.0000 - fp: 63539.0000 - tn: 316272.0000 - fn: 63539.0000 - accuracy: 0.8327 - precision: 0.8327 - recall: 0.8327 - AUC: 0.9350\n",
            "Epoch 157/200\n",
            "371/371 [==============================] - 24s 65ms/step - loss: 0.2993 - tp: 316965.0000 - fp: 62846.0000 - tn: 316965.0000 - fn: 62846.0000 - accuracy: 0.8345 - precision: 0.8345 - recall: 0.8345 - AUC: 0.9361\n",
            "Epoch 158/200\n",
            "371/371 [==============================] - 24s 64ms/step - loss: 0.3001 - tp: 316695.0000 - fp: 63116.0000 - tn: 316695.0000 - fn: 63116.0000 - accuracy: 0.8338 - precision: 0.8338 - recall: 0.8338 - AUC: 0.9356\n",
            "Epoch 159/200\n",
            "371/371 [==============================] - 24s 64ms/step - loss: 0.2999 - tp: 316697.0000 - fp: 63114.0000 - tn: 316697.0000 - fn: 63114.0000 - accuracy: 0.8338 - precision: 0.8338 - recall: 0.8338 - AUC: 0.9357\n",
            "Epoch 160/200\n",
            "371/371 [==============================] - 24s 65ms/step - loss: 0.2992 - tp: 316789.0000 - fp: 63022.0000 - tn: 316789.0000 - fn: 63022.0000 - accuracy: 0.8341 - precision: 0.8341 - recall: 0.8341 - AUC: 0.9360\n",
            "Epoch 161/200\n",
            "371/371 [==============================] - 24s 65ms/step - loss: 0.2979 - tp: 317063.0000 - fp: 62748.0000 - tn: 317063.0000 - fn: 62748.0000 - accuracy: 0.8348 - precision: 0.8348 - recall: 0.8348 - AUC: 0.9365\n",
            "Epoch 162/200\n",
            "371/371 [==============================] - 24s 64ms/step - loss: 0.2955 - tp: 317692.0000 - fp: 62119.0000 - tn: 317692.0000 - fn: 62119.0000 - accuracy: 0.8364 - precision: 0.8364 - recall: 0.8364 - AUC: 0.9375\n",
            "Epoch 163/200\n",
            "371/371 [==============================] - 24s 64ms/step - loss: 0.2967 - tp: 317485.0000 - fp: 62326.0000 - tn: 317485.0000 - fn: 62326.0000 - accuracy: 0.8359 - precision: 0.8359 - recall: 0.8359 - AUC: 0.9371\n",
            "Epoch 164/200\n",
            "371/371 [==============================] - 24s 64ms/step - loss: 0.2963 - tp: 317267.0000 - fp: 62544.0000 - tn: 317267.0000 - fn: 62544.0000 - accuracy: 0.8353 - precision: 0.8353 - recall: 0.8353 - AUC: 0.9370\n",
            "Epoch 165/200\n",
            "371/371 [==============================] - 24s 65ms/step - loss: 0.2973 - tp: 317568.0000 - fp: 62243.0000 - tn: 317568.0000 - fn: 62243.0000 - accuracy: 0.8361 - precision: 0.8361 - recall: 0.8361 - AUC: 0.9371\n",
            "Epoch 166/200\n",
            "371/371 [==============================] - 24s 65ms/step - loss: 0.2966 - tp: 317481.0000 - fp: 62330.0000 - tn: 317481.0000 - fn: 62330.0000 - accuracy: 0.8359 - precision: 0.8359 - recall: 0.8359 - AUC: 0.9371\n",
            "Epoch 167/200\n",
            "371/371 [==============================] - 24s 65ms/step - loss: 0.2953 - tp: 317604.0000 - fp: 62207.0000 - tn: 317604.0000 - fn: 62207.0000 - accuracy: 0.8362 - precision: 0.8362 - recall: 0.8362 - AUC: 0.9377\n",
            "Epoch 168/200\n",
            "371/371 [==============================] - 24s 65ms/step - loss: 0.2946 - tp: 317796.0000 - fp: 62015.0000 - tn: 317796.0000 - fn: 62015.0000 - accuracy: 0.8367 - precision: 0.8367 - recall: 0.8367 - AUC: 0.9379\n",
            "Epoch 169/200\n",
            "371/371 [==============================] - 24s 65ms/step - loss: 0.2935 - tp: 318076.0000 - fp: 61735.0000 - tn: 318076.0000 - fn: 61735.0000 - accuracy: 0.8375 - precision: 0.8375 - recall: 0.8375 - AUC: 0.9385\n",
            "Epoch 170/200\n",
            "371/371 [==============================] - 24s 65ms/step - loss: 0.2930 - tp: 317881.0000 - fp: 61930.0000 - tn: 317881.0000 - fn: 61930.0000 - accuracy: 0.8369 - precision: 0.8369 - recall: 0.8369 - AUC: 0.9384\n",
            "Epoch 171/200\n",
            "371/371 [==============================] - 24s 65ms/step - loss: 0.2934 - tp: 318068.0000 - fp: 61743.0000 - tn: 318068.0000 - fn: 61743.0000 - accuracy: 0.8374 - precision: 0.8374 - recall: 0.8374 - AUC: 0.9383\n",
            "Epoch 172/200\n",
            "371/371 [==============================] - 24s 65ms/step - loss: 0.2938 - tp: 317878.0000 - fp: 61933.0000 - tn: 317878.0000 - fn: 61933.0000 - accuracy: 0.8369 - precision: 0.8369 - recall: 0.8369 - AUC: 0.9382\n",
            "Epoch 173/200\n",
            "371/371 [==============================] - 24s 65ms/step - loss: 0.2931 - tp: 318381.0000 - fp: 61430.0000 - tn: 318381.0000 - fn: 61430.0000 - accuracy: 0.8383 - precision: 0.8383 - recall: 0.8383 - AUC: 0.9387\n",
            "Epoch 174/200\n",
            "371/371 [==============================] - 24s 65ms/step - loss: 0.2932 - tp: 318663.0000 - fp: 61148.0000 - tn: 318663.0000 - fn: 61148.0000 - accuracy: 0.8390 - precision: 0.8390 - recall: 0.8390 - AUC: 0.9387\n",
            "Epoch 175/200\n",
            "371/371 [==============================] - 24s 65ms/step - loss: 0.2909 - tp: 318694.0000 - fp: 61117.0000 - tn: 318694.0000 - fn: 61117.0000 - accuracy: 0.8391 - precision: 0.8391 - recall: 0.8391 - AUC: 0.9394\n",
            "Epoch 176/200\n",
            "371/371 [==============================] - 24s 65ms/step - loss: 0.2917 - tp: 318346.0000 - fp: 61465.0000 - tn: 318346.0000 - fn: 61465.0000 - accuracy: 0.8382 - precision: 0.8382 - recall: 0.8382 - AUC: 0.9392\n",
            "Epoch 177/200\n",
            "371/371 [==============================] - 24s 65ms/step - loss: 0.2908 - tp: 318623.0000 - fp: 61188.0000 - tn: 318623.0000 - fn: 61188.0000 - accuracy: 0.8389 - precision: 0.8389 - recall: 0.8389 - AUC: 0.9395\n",
            "Epoch 178/200\n",
            "371/371 [==============================] - 24s 65ms/step - loss: 0.2908 - tp: 318682.0000 - fp: 61129.0000 - tn: 318682.0000 - fn: 61129.0000 - accuracy: 0.8391 - precision: 0.8391 - recall: 0.8391 - AUC: 0.9396\n",
            "Epoch 179/200\n",
            "371/371 [==============================] - 24s 65ms/step - loss: 0.2893 - tp: 318937.0000 - fp: 60874.0000 - tn: 318937.0000 - fn: 60874.0000 - accuracy: 0.8397 - precision: 0.8397 - recall: 0.8397 - AUC: 0.9401\n",
            "Epoch 180/200\n",
            "371/371 [==============================] - 24s 65ms/step - loss: 0.2893 - tp: 319181.0000 - fp: 60630.0000 - tn: 319181.0000 - fn: 60630.0000 - accuracy: 0.8404 - precision: 0.8404 - recall: 0.8404 - AUC: 0.9401\n",
            "Epoch 181/200\n",
            "371/371 [==============================] - 24s 65ms/step - loss: 0.2886 - tp: 319438.0000 - fp: 60373.0000 - tn: 319438.0000 - fn: 60373.0000 - accuracy: 0.8410 - precision: 0.8410 - recall: 0.8410 - AUC: 0.9404\n",
            "Epoch 182/200\n",
            "371/371 [==============================] - 24s 65ms/step - loss: 0.2904 - tp: 318978.0000 - fp: 60833.0000 - tn: 318978.0000 - fn: 60833.0000 - accuracy: 0.8398 - precision: 0.8398 - recall: 0.8398 - AUC: 0.9398\n",
            "Epoch 183/200\n",
            "371/371 [==============================] - 24s 65ms/step - loss: 0.2894 - tp: 319085.0000 - fp: 60726.0000 - tn: 319085.0000 - fn: 60726.0000 - accuracy: 0.8401 - precision: 0.8401 - recall: 0.8401 - AUC: 0.9400\n",
            "Epoch 184/200\n",
            "371/371 [==============================] - 24s 65ms/step - loss: 0.2874 - tp: 319535.0000 - fp: 60276.0000 - tn: 319535.0000 - fn: 60276.0000 - accuracy: 0.8413 - precision: 0.8413 - recall: 0.8413 - AUC: 0.9410\n",
            "Epoch 185/200\n",
            "371/371 [==============================] - 24s 65ms/step - loss: 0.2897 - tp: 319240.0000 - fp: 60571.0000 - tn: 319240.0000 - fn: 60571.0000 - accuracy: 0.8405 - precision: 0.8405 - recall: 0.8405 - AUC: 0.9403\n",
            "Epoch 186/200\n",
            "371/371 [==============================] - 24s 65ms/step - loss: 0.2864 - tp: 319819.0000 - fp: 59992.0000 - tn: 319819.0000 - fn: 59992.0000 - accuracy: 0.8420 - precision: 0.8420 - recall: 0.8420 - AUC: 0.9414\n",
            "Epoch 187/200\n",
            "371/371 [==============================] - 24s 65ms/step - loss: 0.2867 - tp: 319447.0000 - fp: 60364.0000 - tn: 319447.0000 - fn: 60364.0000 - accuracy: 0.8411 - precision: 0.8411 - recall: 0.8411 - AUC: 0.9410\n",
            "Epoch 188/200\n",
            "371/371 [==============================] - 24s 65ms/step - loss: 0.2859 - tp: 319678.0000 - fp: 60133.0000 - tn: 319678.0000 - fn: 60133.0000 - accuracy: 0.8417 - precision: 0.8417 - recall: 0.8417 - AUC: 0.9415\n",
            "Epoch 189/200\n",
            "371/371 [==============================] - 24s 65ms/step - loss: 0.2872 - tp: 319654.0000 - fp: 60157.0000 - tn: 319654.0000 - fn: 60157.0000 - accuracy: 0.8416 - precision: 0.8416 - recall: 0.8416 - AUC: 0.9412\n",
            "Epoch 190/200\n",
            "371/371 [==============================] - 24s 65ms/step - loss: 0.2863 - tp: 319775.0000 - fp: 60036.0000 - tn: 319775.0000 - fn: 60036.0000 - accuracy: 0.8419 - precision: 0.8419 - recall: 0.8419 - AUC: 0.9416\n",
            "Epoch 191/200\n",
            "371/371 [==============================] - 24s 65ms/step - loss: 0.2848 - tp: 319937.0000 - fp: 59874.0000 - tn: 319937.0000 - fn: 59874.0000 - accuracy: 0.8424 - precision: 0.8424 - recall: 0.8424 - AUC: 0.9420\n",
            "Epoch 192/200\n",
            "371/371 [==============================] - 24s 65ms/step - loss: 0.2855 - tp: 319864.0000 - fp: 59947.0000 - tn: 319864.0000 - fn: 59947.0000 - accuracy: 0.8422 - precision: 0.8422 - recall: 0.8422 - AUC: 0.9416\n",
            "Epoch 193/200\n",
            "371/371 [==============================] - 24s 65ms/step - loss: 0.2828 - tp: 320493.0000 - fp: 59318.0000 - tn: 320493.0000 - fn: 59318.0000 - accuracy: 0.8438 - precision: 0.8438 - recall: 0.8438 - AUC: 0.9425\n",
            "Epoch 194/200\n",
            "371/371 [==============================] - 24s 65ms/step - loss: 0.2832 - tp: 320232.0000 - fp: 59579.0000 - tn: 320232.0000 - fn: 59579.0000 - accuracy: 0.8431 - precision: 0.8431 - recall: 0.8431 - AUC: 0.9424\n",
            "Epoch 195/200\n",
            "371/371 [==============================] - 24s 65ms/step - loss: 0.2830 - tp: 320181.0000 - fp: 59630.0000 - tn: 320181.0000 - fn: 59630.0000 - accuracy: 0.8430 - precision: 0.8430 - recall: 0.8430 - AUC: 0.9425\n",
            "Epoch 196/200\n",
            "371/371 [==============================] - 24s 65ms/step - loss: 0.2831 - tp: 320332.0000 - fp: 59479.0000 - tn: 320332.0000 - fn: 59479.0000 - accuracy: 0.8434 - precision: 0.8434 - recall: 0.8434 - AUC: 0.9425\n",
            "Epoch 197/200\n",
            "371/371 [==============================] - 24s 65ms/step - loss: 0.2829 - tp: 320557.0000 - fp: 59254.0000 - tn: 320557.0000 - fn: 59254.0000 - accuracy: 0.8440 - precision: 0.8440 - recall: 0.8440 - AUC: 0.9428\n",
            "Epoch 198/200\n",
            "371/371 [==============================] - 24s 65ms/step - loss: 0.2824 - tp: 320672.0000 - fp: 59139.0000 - tn: 320672.0000 - fn: 59139.0000 - accuracy: 0.8443 - precision: 0.8443 - recall: 0.8443 - AUC: 0.9431\n",
            "Epoch 199/200\n",
            "371/371 [==============================] - 24s 65ms/step - loss: 0.2827 - tp: 320435.0000 - fp: 59376.0000 - tn: 320435.0000 - fn: 59376.0000 - accuracy: 0.8437 - precision: 0.8437 - recall: 0.8437 - AUC: 0.9427\n",
            "Epoch 200/200\n",
            "371/371 [==============================] - 24s 65ms/step - loss: 0.2882 - tp: 319905.0000 - fp: 59906.0000 - tn: 319905.0000 - fn: 59906.0000 - accuracy: 0.8423 - precision: 0.8423 - recall: 0.8423 - AUC: 0.9411\n"
          ]
        }
      ],
      "source": [
        "$47\n",
        "history_training = m.fit(all_sentences,labels,\n",
        "                         epochs= 200,\n",
        "                         batch_size = 1024,\n",
        "                         use_multiprocessing=True,\n",
        "                         workers=-1,\n",
        "                         callbacks=[ earlyStopping])"
      ]
    },
    {
      "cell_type": "code",
      "execution_count": null,
      "metadata": {
        "id": "V_4Qnavarj5m"
      },
      "outputs": [],
      "source": [
        "#48\n",
        "import matplotlib as mpl\n",
        "def draw_plot(data,c, type_data):\n",
        "  mpl.style.use('seaborn')\n",
        "  plt.figure(figsize = (20, 6))\n",
        "  plt.plot(data,c, label= type_data)\n",
        "  plt.xlabel('Epoch')\n",
        "  plt.ylabel(type_data)\n",
        "  plt.legend()"
      ]
    },
    {
      "cell_type": "code",
      "source": [
        "#49\n",
        "draw_plot(history_training.history['accuracy'],\"darkgreen\", \"accuracy\")"
      ],
      "metadata": {
        "colab": {
          "base_uri": "https://localhost:8080/",
          "height": 377
        },
        "id": "zIfCUXilZ2zf",
        "outputId": "cbd9bb1c-cb4d-46af-a6e9-3b8105db4c2b"
      },
      "execution_count": null,
      "outputs": [
        {
          "output_type": "display_data",
          "data": {
            "text/plain": [
              "<Figure size 1440x432 with 1 Axes>"
            ],
            "image/png": "[encoded data removed]"
          },
          "metadata": {}
        }
      ]
    },
    {
      "cell_type": "code",
      "execution_count": null,
      "metadata": {
        "colab": {
          "base_uri": "https://localhost:8080/",
          "height": 377
        },
        "id": "TdU_UnpCr3kV",
        "outputId": "e246dbb2-4483-44f6-ee99-264b364654f6"
      },
      "outputs": [
        {
          "output_type": "display_data",
          "data": {
            "text/plain": [
              "<Figure size 1440x432 with 1 Axes>"
            ],
            "image/png": "[encoded data removed]"
          },
          "metadata": {}
        }
      ],
      "source": [
        "#49\n",
        "draw_plot(history_training.history['AUC'],\"red\", \"AUC\")"
      ]
    },
    {
      "cell_type": "code",
      "execution_count": null,
      "metadata": {
        "colab": {
          "base_uri": "https://localhost:8080/",
          "height": 378
        },
        "id": "hZR3j5yur_QQ",
        "outputId": "e69c2351-c3af-4631-a0e8-c79ebbba0190"
      },
      "outputs": [
        {
          "output_type": "display_data",
          "data": {
            "text/plain": [
              "<Figure size 1440x432 with 1 Axes>"
            ],
            "image/png": "[encoded data removed]"
          },
          "metadata": {}
        }
      ],
      "source": [
        "#49\n",
        "draw_plot(history_training.history['loss'],\"blue\", \"loss\")"
      ]
    },
    {
      "cell_type": "code",
      "execution_count": null,
      "metadata": {
        "colab": {
          "base_uri": "https://localhost:8080/"
        },
        "id": "ZG9y91GGM5QH",
        "outputId": "7654d188-11a6-4922-878c-05aebd040b21"
      },
      "outputs": [
        {
          "output_type": "stream",
          "name": "stdout",
          "text": [
            "371/371 [==============================] - 10s 24ms/step - loss: 0.2478 - tp: 328741.0000 - fp: 51070.0000 - tn: 328741.0000 - fn: 51070.0000 - accuracy: 0.8655 - precision: 0.8655 - recall: 0.8655 - AUC: 0.9588\n"
          ]
        },
        {
          "output_type": "execute_result",
          "data": {
            "text/plain": [
              "[0.24783550202846527,\n",
              " 328741.0,\n",
              " 51070.0,\n",
              " 328741.0,\n",
              " 51070.0,\n",
              " 0.8655383586883545,\n",
              " 0.8655383586883545,\n",
              " 0.8655383586883545,\n",
              " 0.9588214159011841]"
            ]
          },
          "metadata": {},
          "execution_count": 66
        }
      ],
      "source": [
        "#50\n",
        "m.evaluate(all_sentences,labels, batch_size = 1024,use_multiprocessing=True, workers = -1)"
      ]
    },
    {
      "cell_type": "code",
      "execution_count": null,
      "metadata": {
        "colab": {
          "base_uri": "https://localhost:8080/"
        },
        "id": "p-OJ9aRaNBHu",
        "outputId": "3e6f8b68-65e3-4d3f-dda0-be639605591c"
      },
      "outputs": [
        {
          "output_type": "stream",
          "name": "stdout",
          "text": [
            "371/371 [==============================] - 8s 20ms/step\n"
          ]
        }
      ],
      "source": [
        "#51\n",
        "y_pred = m.predict(all_sentences, batch_size=1024, verbose= 1)\n",
        "y_pred = np.argmax(y_pred, axis = 1)"
      ]
    },
    {
      "cell_type": "code",
      "execution_count": null,
      "metadata": {
        "colab": {
          "base_uri": "https://localhost:8080/"
        },
        "id": "U6RodD-4NI_G",
        "outputId": "7ac1d483-5da6-483f-8cdf-fedff86df429"
      },
      "outputs": [
        {
          "output_type": "execute_result",
          "data": {
            "text/plain": [
              "array([0, 0, 0, ..., 0, 1, 1])"
            ]
          },
          "metadata": {},
          "execution_count": 68
        }
      ],
      "source": [
        "y_pred"
      ]
    },
    {
      "cell_type": "code",
      "execution_count": null,
      "metadata": {
        "colab": {
          "base_uri": "https://localhost:8080/"
        },
        "id": "976WLuLaNKNu",
        "outputId": "fac1d768-67c1-45a1-f2ec-e0e800b8c81b"
      },
      "outputs": [
        {
          "output_type": "execute_result",
          "data": {
            "text/plain": [
              "array([0, 0, 0, ..., 0, 0, 1])"
            ]
          },
          "metadata": {},
          "execution_count": 69
        }
      ],
      "source": [
        "#52\n",
        "y_test = np.argmax(labels, axis = 1)\n",
        "y_test"
      ]
    },
    {
      "cell_type": "code",
      "execution_count": null,
      "metadata": {
        "colab": {
          "base_uri": "https://localhost:8080/"
        },
        "id": "AId-yj4eNOkG",
        "outputId": "aa04455d-dfb8-45e1-80e2-500e12765890"
      },
      "outputs": [
        {
          "output_type": "execute_result",
          "data": {
            "text/plain": [
              "0.8655383861973456"
            ]
          },
          "metadata": {},
          "execution_count": 70
        }
      ],
      "source": [
        "#53\n",
        "from sklearn.metrics import accuracy_score\n",
        "accuracy_score(y_test, y_pred)"
      ]
    },
    {
      "cell_type": "code",
      "execution_count": null,
      "metadata": {
        "id": "MZ3Mui2M1l0I"
      },
      "outputs": [],
      "source": [
        "#54\n",
        "res = tf.math.confusion_matrix(y_pred,y_test).numpy()"
      ]
    },
    {
      "cell_type": "code",
      "execution_count": null,
      "metadata": {
        "colab": {
          "base_uri": "https://localhost:8080/",
          "height": 112
        },
        "id": "ezspwTOc1pxd",
        "outputId": "67f09094-6c55-4ce3-f776-e78f4e4249c0"
      },
      "outputs": [
        {
          "output_type": "execute_result",
          "data": {
            "text/plain": [
              "               contradiction  entailment\n",
              "contradiction         170365       31735\n",
              "entailment             19335      158376"
            ],
            "text/html": [
              "\n",
              "  <div id=\"df-f301f1c9-cda1-4d7e-8305-e0b1e66906da\">\n",
              "    <div class=\"colab-df-container\">\n",
              "      <div>\n",
              "<style scoped>\n",
              "    .dataframe tbody tr th:only-of-type {\n",
              "        vertical-align: middle;\n",
              "    }\n",
              "\n",
              "    .dataframe tbody tr th {\n",
              "        vertical-align: top;\n",
              "    }\n",
              "\n",
              "    .dataframe thead th {\n",
              "        text-align: right;\n",
              "    }\n",
              "</style>\n",
              "<table border=\"1\" class=\"dataframe\">\n",
              "  <thead>\n",
              "    <tr style=\"text-align: right;\">\n",
              "      <th></th>\n",
              "      <th>contradiction</th>\n",
              "      <th>entailment</th>\n",
              "    </tr>\n",
              "  </thead>\n",
              "  <tbody>\n",
              "    <tr>\n",
              "      <th>contradiction</th>\n",
              "      <td>170365</td>\n",
              "      <td>31735</td>\n",
              "    </tr>\n",
              "    <tr>\n",
              "      <th>entailment</th>\n",
              "      <td>19335</td>\n",
              "      <td>158376</td>\n",
              "    </tr>\n",
              "  </tbody>\n",
              "</table>\n",
              "</div>\n",
              "      <button class=\"colab-df-convert\" onclick=\"convertToInteractive('df-f301f1c9-cda1-4d7e-8305-e0b1e66906da')\"\n",
              "              title=\"Convert this dataframe to an interactive table.\"\n",
              "              style=\"display:none;\">\n",
              "        \n",
              "  <svg xmlns=\"http://www.w3.org/2000/svg\" height=\"24px\"viewBox=\"0 0 24 24\"\n",
              "       width=\"24px\">\n",
              "    <path d=\"M0 0h24v24H0V0z\" fill=\"none\"/>\n",
              "    <path d=\"M18.56 5.44l.94 2.06.94-2.06 2.06-.94-2.06-.94-.94-2.06-.94 2.06-2.06.94zm-11 1L8.5 8.5l.94-2.06 2.06-.94-2.06-.94L8.5 2.5l-.94 2.06-2.06.94zm10 10l.94 2.06.94-2.06 2.06-.94-2.06-.94-.94-2.06-.94 2.06-2.06.94z\"/><path d=\"M17.41 7.96l-1.37-1.37c-.4-.4-.92-.59-1.43-.59-.52 0-1.04.2-1.43.59L10.3 9.45l-7.72 7.72c-.78.78-.78 2.05 0 2.83L4 21.41c.39.39.9.59 1.41.59.51 0 1.02-.2 1.41-.59l7.78-7.78 2.81-2.81c.8-.78.8-2.07 0-2.86zM5.41 20L4 18.59l7.72-7.72 1.47 1.35L5.41 20z\"/>\n",
              "  </svg>\n",
              "      </button>\n",
              "      \n",
              "  <style>\n",
              "    .colab-df-container {\n",
              "      display:flex;\n",
              "      flex-wrap:wrap;\n",
              "      gap: 12px;\n",
              "    }\n",
              "\n",
              "    .colab-df-convert {\n",
              "      background-color: #E8F0FE;\n",
              "      border: none;\n",
              "      border-radius: 50%;\n",
              "      cursor: pointer;\n",
              "      display: none;\n",
              "      fill: #1967D2;\n",
              "      height: 32px;\n",
              "      padding: 0 0 0 0;\n",
              "      width: 32px;\n",
              "    }\n",
              "\n",
              "    .colab-df-convert:hover {\n",
              "      background-color: #E2EBFA;\n",
              "      box-shadow: 0px 1px 2px rgba(60, 64, 67, 0.3), 0px 1px 3px 1px rgba(60, 64, 67, 0.15);\n",
              "      fill: #174EA6;\n",
              "    }\n",
              "\n",
              "    [theme=dark] .colab-df-convert {\n",
              "      background-color: #3B4455;\n",
              "      fill: #D2E3FC;\n",
              "    }\n",
              "\n",
              "    [theme=dark] .colab-df-convert:hover {\n",
              "      background-color: #434B5C;\n",
              "      box-shadow: 0px 1px 3px 1px rgba(0, 0, 0, 0.15);\n",
              "      filter: drop-shadow(0px 1px 2px rgba(0, 0, 0, 0.3));\n",
              "      fill: #FFFFFF;\n",
              "    }\n",
              "  </style>\n",
              "\n",
              "      <script>\n",
              "        const buttonEl =\n",
              "          document.querySelector('#df-f301f1c9-cda1-4d7e-8305-e0b1e66906da button.colab-df-convert');\n",
              "        buttonEl.style.display =\n",
              "          google.colab.kernel.accessAllowed ? 'block' : 'none';\n",
              "\n",
              "        async function convertToInteractive(key) {\n",
              "          const element = document.querySelector('#df-f301f1c9-cda1-4d7e-8305-e0b1e66906da');\n",
              "          const dataTable =\n",
              "            await google.colab.kernel.invokeFunction('convertToInteractive',\n",
              "                                                     [key], {});\n",
              "          if (!dataTable) return;\n",
              "\n",
              "          const docLinkHtml = 'Like what you see? Visit the ' +\n",
              "            '<a target=\"_blank\" href=https://colab.research.google.com/notebooks/data_table.ipynb>data table notebook</a>'\n",
              "            + ' to learn more about interactive tables.';\n",
              "          element.innerHTML = '';\n",
              "          dataTable['output_type'] = 'display_data';\n",
              "          await google.colab.output.renderOutput(dataTable, element);\n",
              "          const docLink = document.createElement('div');\n",
              "          docLink.innerHTML = docLinkHtml;\n",
              "          element.appendChild(docLink);\n",
              "        }\n",
              "      </script>\n",
              "    </div>\n",
              "  </div>\n",
              "  "
            ]
          },
          "metadata": {},
          "execution_count": 72
        }
      ],
      "source": [
        "#55\n",
        "cm = pd.DataFrame(res,\n",
        "                     index = ['contradiction', 'entailment'], \n",
        "                     columns = ['contradiction', 'entailment'])\n",
        "cm"
      ]
    },
    {
      "cell_type": "code",
      "execution_count": null,
      "metadata": {
        "colab": {
          "base_uri": "https://localhost:8080/",
          "height": 606
        },
        "id": "nvnXK5_J15rE",
        "outputId": "b33913db-230b-4728-b02f-57ab275fdf36"
      },
      "outputs": [
        {
          "output_type": "display_data",
          "data": {
            "text/plain": [
              "<Figure size 720x720 with 2 Axes>"
            ],
            "image/png": "[encoded data removed]"
          },
          "metadata": {}
        }
      ],
      "source": [
        "#56\n",
        "import seaborn as sns\n",
        "figure = plt.figure(figsize=(10, 10))\n",
        "sns.heatmap(cm, annot=True, cmap=plt.cm.Blues)\n",
        "plt.ylabel('True label')\n",
        "plt.xlabel('Predicted label')\n",
        "plt.show()"
      ]
    },
    {
      "cell_type": "markdown",
      "metadata": {
        "id": "LUyBpcM92DKO"
      },
      "source": [
        "#Live Test"
      ]
    },
    {
      "cell_type": "markdown",
      "source": [
        "The proposed system can benefit from the ability to analyze and link tweets that are similar in meaning with each other, and thus show the way in which Twitter can review similar tweets as suggestions to users, depending on the match in terms of meaning.\n",
        "Examples of datasets that can be used:\n",
        "https://www.kaggle.com/datasets/vishesh1412/twitter-dataset-sri-lanka-crisis/"
      ],
      "metadata": {
        "id": "NBXFuvVpyvsE"
      }
    },
    {
      "cell_type": "code",
      "execution_count": null,
      "metadata": {
        "id": "y_wdlAi521pw"
      },
      "outputs": [],
      "source": [
        "sen1 = \"In Sri Lanka, the demonstrators went out in many demonstrations against the government, the demonstrators managed to reach the presidential residence of the president, and news of the president's escape.\"\n",
        "sen2 = \"In Sri Lanka, the atmosphere is wonderful, and the tourist areas are spread in large quantity, the prices are rather low, and it has a comfortable political and economic stability, I recommend visiting it, it has many wonderful monuments.\""
      ]
    },
    {
      "cell_type": "code",
      "execution_count": null,
      "metadata": {
        "id": "m4TQoEy76Zls"
      },
      "outputs": [],
      "source": [
        "def pre_processing_sentence(sentence):\n",
        "  texts = []\n",
        "  pred_input = sentence\n",
        "  pred_input = [letters.lower() for letters in pred_input if letters not in string.punctuation]\n",
        "  pred_input = ''.join(pred_input)\n",
        "  pred_input = [word for word in pred_input.split() if word not in stop_words]\n",
        "  pred_input = ' '.join(pred_input)\n",
        "  print(pred_input)\n",
        "  texts.append(pred_input)\n",
        "  pred_input = tokenizer.texts_to_sequences(texts)\n",
        "  pred_input = np.array(pred_input).reshape(-1)\n",
        "  pred_input = pad_sequences([pred_input],43)\n",
        "  return pred_input"
      ]
    },
    {
      "cell_type": "markdown",
      "source": [
        "**Note:**\n",
        "Tokenizer depends on the words contained in the trained data (word dictionary), and therefore for new words that the Tokenizer has not been trained on, the Tokenizer will remove them."
      ],
      "metadata": {
        "id": "7uIt5pf62bDa"
      }
    },
    {
      "cell_type": "code",
      "execution_count": null,
      "metadata": {
        "id": "LyGFAKy24f6Q",
        "colab": {
          "base_uri": "https://localhost:8080/"
        },
        "outputId": "277c77d4-429e-4024-b778-72004187a38d"
      },
      "outputs": [
        {
          "output_type": "stream",
          "name": "stdout",
          "text": [
            "sri lanka demonstrators went many demonstrations government demonstrators managed reach presidential residence president news presidents escape\n"
          ]
        }
      ],
      "source": [
        "sen1 = pre_processing_sentence(sen1)"
      ]
    },
    {
      "cell_type": "code",
      "execution_count": null,
      "metadata": {
        "colab": {
          "base_uri": "https://localhost:8080/"
        },
        "id": "nT9hF2PB9F-8",
        "outputId": "23374161-3c34-40d4-d13a-947cd811772c"
      },
      "outputs": [
        {
          "output_type": "execute_result",
          "data": {
            "text/plain": [
              "array([[   0,    0,    0,    0,    0,    0,    0,    0,    0,    0,    0,\n",
              "           0,    0,    0,    0,    0,    0,    0,    0,    0,    0,    0,\n",
              "           0,    0,    0,    0,    0,    0,    0,    0,    0,    0,    0,\n",
              "           0,    0,    0, 1595,  171, 4060, 1638, 4001, 2291, 3309]],\n",
              "      dtype=int32)"
            ]
          },
          "metadata": {},
          "execution_count": 77
        }
      ],
      "source": [
        "sen1"
      ]
    },
    {
      "cell_type": "code",
      "execution_count": null,
      "metadata": {
        "id": "G0HzE15j8FZy",
        "colab": {
          "base_uri": "https://localhost:8080/"
        },
        "outputId": "d436c97a-663a-43bb-c3f9-9ac2742563f3"
      },
      "outputs": [
        {
          "output_type": "stream",
          "name": "stdout",
          "text": [
            "sri lanka atmosphere wonderful tourist areas spread large quantity prices rather low comfortable political economic stability recommend visiting many wonderful monuments\n"
          ]
        }
      ],
      "source": [
        "sen2 = pre_processing_sentence(sen2)"
      ]
    },
    {
      "cell_type": "code",
      "execution_count": null,
      "metadata": {
        "colab": {
          "base_uri": "https://localhost:8080/"
        },
        "id": "gNe0KXR-9IzB",
        "outputId": "edd3c943-9839-488e-d00d-ca4cb1aa1b63"
      },
      "outputs": [
        {
          "output_type": "execute_result",
          "data": {
            "text/plain": [
              "array([[   0,    0,    0,    0,    0,    0,    0,    0,    0,    0,    0,\n",
              "           0,    0,    0,    0,    0,    0,    0,    0,    0,    0,    0,\n",
              "           0,    0,    0,    0,    0,    0,    0,    0,    0,    0,    0,\n",
              "        1486, 1669,   37, 5030, 3390, 1107, 5035, 3018, 2055,  171]],\n",
              "      dtype=int32)"
            ]
          },
          "metadata": {},
          "execution_count": 79
        }
      ],
      "source": [
        "sen2"
      ]
    },
    {
      "cell_type": "code",
      "execution_count": null,
      "metadata": {
        "id": "8-pu1Ie68J_R"
      },
      "outputs": [],
      "source": [
        "full_input = np.asarray([sen1, sen2])"
      ]
    },
    {
      "cell_type": "code",
      "execution_count": null,
      "metadata": {
        "colab": {
          "base_uri": "https://localhost:8080/"
        },
        "id": "OiUGh_sK8Ryc",
        "outputId": "21c6aa61-da28-4cd4-cf11-13fba00998db"
      },
      "outputs": [
        {
          "output_type": "execute_result",
          "data": {
            "text/plain": [
              "(2, 1, 43)"
            ]
          },
          "metadata": {},
          "execution_count": 81
        }
      ],
      "source": [
        "full_input.shape"
      ]
    },
    {
      "cell_type": "code",
      "execution_count": null,
      "metadata": {
        "id": "5U_BK-Jm8Vvj"
      },
      "outputs": [],
      "source": [
        "full_input = full_input.reshape(1, 2, 43)"
      ]
    },
    {
      "cell_type": "code",
      "execution_count": null,
      "metadata": {
        "colab": {
          "base_uri": "https://localhost:8080/"
        },
        "id": "R01VC1YC8b-h",
        "outputId": "3684e6c9-21b1-45a6-815c-5cb924417405"
      },
      "outputs": [
        {
          "output_type": "execute_result",
          "data": {
            "text/plain": [
              "(1, 2, 43)"
            ]
          },
          "metadata": {},
          "execution_count": 83
        }
      ],
      "source": [
        "full_input.shape"
      ]
    },
    {
      "cell_type": "code",
      "execution_count": null,
      "metadata": {
        "id": "ihWQdv5C8e1Y",
        "colab": {
          "base_uri": "https://localhost:8080/"
        },
        "outputId": "5c9542d4-c0cb-4a6a-f90e-1ce45d08b259"
      },
      "outputs": [
        {
          "output_type": "stream",
          "name": "stdout",
          "text": [
            "1/1 [==============================] - 0s 24ms/step\n"
          ]
        }
      ],
      "source": [
        "y_predict = m.predict(full_input)"
      ]
    },
    {
      "cell_type": "code",
      "execution_count": null,
      "metadata": {
        "colab": {
          "base_uri": "https://localhost:8080/"
        },
        "id": "K47IUQDa8juI",
        "outputId": "c99419d0-423f-4ef6-8816-d269f1337296"
      },
      "outputs": [
        {
          "output_type": "execute_result",
          "data": {
            "text/plain": [
              "array([[1.0000000e+00, 1.9133919e-20]], dtype=float32)"
            ]
          },
          "metadata": {},
          "execution_count": 85
        }
      ],
      "source": [
        "y_predict"
      ]
    },
    {
      "cell_type": "code",
      "execution_count": null,
      "metadata": {
        "id": "tHh7pr-G8m2j"
      },
      "outputs": [],
      "source": [
        "y_pred = np.argmax(y_predict)"
      ]
    },
    {
      "cell_type": "code",
      "execution_count": null,
      "metadata": {
        "id": "vUF1Obba9ja-"
      },
      "outputs": [],
      "source": [
        "classes_name = ['contradiction', 'entailment']"
      ]
    },
    {
      "cell_type": "code",
      "execution_count": null,
      "metadata": {
        "colab": {
          "base_uri": "https://localhost:8080/"
        },
        "id": "35i55_zQ8q6A",
        "outputId": "8accfb02-71bb-4a25-a55d-9fba7fc63768"
      },
      "outputs": [
        {
          "output_type": "execute_result",
          "data": {
            "text/plain": [
              "100.0"
            ]
          },
          "metadata": {},
          "execution_count": 88
        }
      ],
      "source": [
        "y_predict[0][y_pred]*100"
      ]
    },
    {
      "cell_type": "code",
      "execution_count": null,
      "metadata": {
        "colab": {
          "base_uri": "https://localhost:8080/",
          "height": 35
        },
        "id": "mbrsQibK9rlX",
        "outputId": "f4f1f3e9-a362-4e55-e73c-291ef5272406"
      },
      "outputs": [
        {
          "output_type": "execute_result",
          "data": {
            "text/plain": [
              "'contradiction'"
            ],
            "application/vnd.google.colaboratory.intrinsic+json": {
              "type": "string"
            }
          },
          "metadata": {},
          "execution_count": 89
        }
      ],
      "source": [
        "classes_name[y_pred]"
      ]
    }
  ],
  "metadata": {
    "accelerator": "GPU",
    "colab": {
      "machine_shape": "hm",
      "provenance": []
    },
    "gpuClass": "standard",
    "kernelspec": {
      "display_name": "Python 3",
      "name": "python3"
    },
    "language_info": {
      "name": "python"
    }
  },
  "nbformat": 4,
  "nbformat_minor": 0
}